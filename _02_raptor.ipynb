{
 "cells": [
  {
   "cell_type": "code",
   "execution_count": 1,
   "id": "3989140f",
   "metadata": {},
   "outputs": [],
   "source": [
    "\n",
    "import os\n",
    "import pymupdf\n",
    "\n",
    "file_path = os.path.join(\"./\", \"docs\", \"pdfs\", \"jaideep-activity-report.pdf\")\n",
    "path_to_images_folder = os.path.join(\"./\", \"docs\", \"images\")\n",
    "\n",
    "doc = pymupdf.open(file_path)\n",
    "for page_number in doc:\n",
    "  pix = page_number.get_pixmap()\n",
    "  pix.save(os.path.join(path_to_images_folder, f\"page-number-{page_number.number}.png\"))\n",
    "\n"
   ]
  },
  {
   "cell_type": "code",
   "execution_count": 10,
   "id": "7bfe321b",
   "metadata": {},
   "outputs": [],
   "source": [
    "\n",
    "from langchain_openai import AzureChatOpenAI, AzureOpenAIEmbeddings\n",
    "from dotenv import load_dotenv\n",
    "from langchain_core.prompts import ChatPromptTemplate\n",
    "import pymupdf\n",
    "import base64\n",
    "from langchain_core.documents import Document\n",
    "from langchain_core.output_parsers import StrOutputParser\n",
    "from typing import List\n",
    "from langchain_text_splitters import RecursiveCharacterTextSplitter\n",
    "\n",
    "load_dotenv() \n",
    "\n",
    "llm = AzureChatOpenAI(model_name=\"gpt-4o\",temperature=0)\n",
    "\n",
    "text_splitter = RecursiveCharacterTextSplitter.from_tiktoken_encoder(chunk_size=1000, chunk_overlap=200)\n",
    "\n",
    "prompt = ChatPromptTemplate.from_messages(\n",
    "  [\n",
    "    (\"system\", \"\"\"\n",
    "      You are an expert image recognition agent. You have been tasked with extracting detailed content of an image of a document. Include every text details and extract the text like professional OCR. When the images are present include a detailed description of that.\n",
    "      For the table you need to extract the table in markdown format.\n",
    "      **NOTE:** Instead of word/special/non-breaking space character like &nbsp; use empty space in. Also do not include any non human readable characters.\n",
    "    \"\"\"),\t\n",
    "    (\n",
    "      \"user\",\n",
    "      [\n",
    "        {\n",
    "          \"type\": \"image_url\",\n",
    "          \"image_url\": {\"url\": \"data:image/jpeg;base64,{image_data}\"},\n",
    "        }\n",
    "      ],\n",
    "    ),\n",
    "  ]\n",
    ")\n",
    "\n",
    "def get_image_summary(image_path) -> str:\n",
    "    pix = pymupdf.Pixmap(image_path)\n",
    "    image_data = base64.b64encode(pix.tobytes()).decode('utf-8')  \n",
    "\n",
    "    chain = prompt | llm | StrOutputParser()\n",
    "    page_data = chain.invoke({ 'image_data': image_data })\n",
    "    return page_data\n"
   ]
  },
  {
   "cell_type": "code",
   "execution_count": 11,
   "id": "0c00510b",
   "metadata": {},
   "outputs": [
    {
     "name": "stderr",
     "output_type": "stream",
     "text": [
      "0it [00:00, ?it/s]"
     ]
    },
    {
     "name": "stdout",
     "output_type": "stream",
     "text": [
      "Summarizing './docs\\images\\page-number-0.png'.\n"
     ]
    },
    {
     "name": "stderr",
     "output_type": "stream",
     "text": [
      "1it [01:11, 71.35s/it]"
     ]
    },
    {
     "name": "stdout",
     "output_type": "stream",
     "text": [
      "Summarizing './docs\\images\\page-number-1.png'.\n"
     ]
    },
    {
     "name": "stderr",
     "output_type": "stream",
     "text": [
      "2it [01:17, 32.77s/it]"
     ]
    },
    {
     "name": "stdout",
     "output_type": "stream",
     "text": [
      "Summarizing './docs\\images\\page-number-2.png'.\n"
     ]
    },
    {
     "name": "stderr",
     "output_type": "stream",
     "text": [
      "3it [01:22, 20.14s/it]"
     ]
    },
    {
     "name": "stdout",
     "output_type": "stream",
     "text": [
      "Summarizing './docs\\images\\page-number-3.png'.\n"
     ]
    },
    {
     "name": "stderr",
     "output_type": "stream",
     "text": [
      "4it [01:28, 14.72s/it]"
     ]
    },
    {
     "name": "stdout",
     "output_type": "stream",
     "text": [
      "Summarizing './docs\\images\\page-number-4.png'.\n"
     ]
    },
    {
     "name": "stderr",
     "output_type": "stream",
     "text": [
      "5it [01:35, 11.87s/it]"
     ]
    },
    {
     "name": "stdout",
     "output_type": "stream",
     "text": [
      "Summarizing './docs\\images\\page-number-5.png'.\n"
     ]
    },
    {
     "name": "stderr",
     "output_type": "stream",
     "text": [
      "6it [01:42, 10.30s/it]"
     ]
    },
    {
     "name": "stdout",
     "output_type": "stream",
     "text": [
      "Summarizing './docs\\images\\page-number-6.png'.\n"
     ]
    },
    {
     "name": "stderr",
     "output_type": "stream",
     "text": [
      "7it [01:50,  9.55s/it]"
     ]
    },
    {
     "name": "stdout",
     "output_type": "stream",
     "text": [
      "Summarizing './docs\\images\\page-number-7.png'.\n"
     ]
    },
    {
     "name": "stderr",
     "output_type": "stream",
     "text": [
      "8it [01:56,  8.49s/it]"
     ]
    },
    {
     "name": "stdout",
     "output_type": "stream",
     "text": [
      "Summarizing './docs\\images\\page-number-8.png'.\n"
     ]
    },
    {
     "name": "stderr",
     "output_type": "stream",
     "text": [
      "9it [02:07,  9.19s/it]"
     ]
    },
    {
     "name": "stdout",
     "output_type": "stream",
     "text": [
      "Summarizing './docs\\images\\page-number-9.png'.\n"
     ]
    },
    {
     "name": "stderr",
     "output_type": "stream",
     "text": [
      "10it [02:15,  8.92s/it]"
     ]
    },
    {
     "name": "stdout",
     "output_type": "stream",
     "text": [
      "Summarizing './docs\\images\\page-number-10.png'.\n"
     ]
    },
    {
     "name": "stderr",
     "output_type": "stream",
     "text": [
      "11it [02:21,  7.77s/it]"
     ]
    },
    {
     "name": "stdout",
     "output_type": "stream",
     "text": [
      "Summarizing './docs\\images\\page-number-11.png'.\n"
     ]
    },
    {
     "name": "stderr",
     "output_type": "stream",
     "text": [
      "12it [02:25,  6.82s/it]"
     ]
    },
    {
     "name": "stdout",
     "output_type": "stream",
     "text": [
      "Summarizing './docs\\images\\page-number-12.png'.\n"
     ]
    },
    {
     "name": "stderr",
     "output_type": "stream",
     "text": [
      "13it [02:32,  6.92s/it]"
     ]
    },
    {
     "name": "stdout",
     "output_type": "stream",
     "text": [
      "Summarizing './docs\\images\\page-number-13.png'.\n"
     ]
    },
    {
     "name": "stderr",
     "output_type": "stream",
     "text": [
      "14it [02:39,  6.96s/it]"
     ]
    },
    {
     "name": "stdout",
     "output_type": "stream",
     "text": [
      "Summarizing './docs\\images\\page-number-14.png'.\n"
     ]
    },
    {
     "name": "stderr",
     "output_type": "stream",
     "text": [
      "15it [02:45,  6.60s/it]"
     ]
    },
    {
     "name": "stdout",
     "output_type": "stream",
     "text": [
      "Summarizing './docs\\images\\page-number-15.png'.\n"
     ]
    },
    {
     "name": "stderr",
     "output_type": "stream",
     "text": [
      "16it [02:50,  6.00s/it]"
     ]
    },
    {
     "name": "stdout",
     "output_type": "stream",
     "text": [
      "Summarizing './docs\\images\\page-number-16.png'.\n"
     ]
    },
    {
     "name": "stderr",
     "output_type": "stream",
     "text": [
      "17it [02:58,  6.74s/it]"
     ]
    },
    {
     "name": "stdout",
     "output_type": "stream",
     "text": [
      "Summarizing './docs\\images\\page-number-17.png'.\n"
     ]
    },
    {
     "name": "stderr",
     "output_type": "stream",
     "text": [
      "18it [03:05,  6.80s/it]"
     ]
    },
    {
     "name": "stdout",
     "output_type": "stream",
     "text": [
      "Summarizing './docs\\images\\page-number-18.png'.\n"
     ]
    },
    {
     "name": "stderr",
     "output_type": "stream",
     "text": [
      "19it [03:13,  7.11s/it]"
     ]
    },
    {
     "name": "stdout",
     "output_type": "stream",
     "text": [
      "Summarizing './docs\\images\\page-number-19.png'.\n"
     ]
    },
    {
     "name": "stderr",
     "output_type": "stream",
     "text": [
      "20it [03:19,  6.87s/it]"
     ]
    },
    {
     "name": "stdout",
     "output_type": "stream",
     "text": [
      "Summarizing './docs\\images\\page-number-20.png'.\n"
     ]
    },
    {
     "name": "stderr",
     "output_type": "stream",
     "text": [
      "21it [03:28,  7.52s/it]"
     ]
    },
    {
     "name": "stdout",
     "output_type": "stream",
     "text": [
      "Summarizing './docs\\images\\page-number-21.png'.\n"
     ]
    },
    {
     "name": "stderr",
     "output_type": "stream",
     "text": [
      "22it [03:31,  6.13s/it]"
     ]
    },
    {
     "name": "stdout",
     "output_type": "stream",
     "text": [
      "Summarizing './docs\\images\\page-number-22.png'.\n"
     ]
    },
    {
     "name": "stderr",
     "output_type": "stream",
     "text": [
      "23it [03:43,  7.75s/it]"
     ]
    },
    {
     "name": "stdout",
     "output_type": "stream",
     "text": [
      "Summarizing './docs\\images\\page-number-23.png'.\n"
     ]
    },
    {
     "name": "stderr",
     "output_type": "stream",
     "text": [
      "24it [03:48,  7.07s/it]"
     ]
    },
    {
     "name": "stdout",
     "output_type": "stream",
     "text": [
      "Summarizing './docs\\images\\page-number-24.png'.\n"
     ]
    },
    {
     "name": "stderr",
     "output_type": "stream",
     "text": [
      "25it [03:56,  7.14s/it]"
     ]
    },
    {
     "name": "stdout",
     "output_type": "stream",
     "text": [
      "Summarizing './docs\\images\\page-number-25.png'.\n"
     ]
    },
    {
     "name": "stderr",
     "output_type": "stream",
     "text": [
      "26it [04:08,  8.84s/it]"
     ]
    },
    {
     "name": "stdout",
     "output_type": "stream",
     "text": [
      "Summarizing './docs\\images\\page-number-26.png'.\n"
     ]
    },
    {
     "name": "stderr",
     "output_type": "stream",
     "text": [
      "27it [04:13,  7.64s/it]"
     ]
    },
    {
     "name": "stdout",
     "output_type": "stream",
     "text": [
      "Summarizing './docs\\images\\page-number-27.png'.\n"
     ]
    },
    {
     "name": "stderr",
     "output_type": "stream",
     "text": [
      "28it [04:30, 10.23s/it]"
     ]
    },
    {
     "name": "stdout",
     "output_type": "stream",
     "text": [
      "Summarizing './docs\\images\\page-number-28.png'.\n"
     ]
    },
    {
     "name": "stderr",
     "output_type": "stream",
     "text": [
      "29it [04:37,  9.28s/it]"
     ]
    },
    {
     "name": "stdout",
     "output_type": "stream",
     "text": [
      "Summarizing './docs\\images\\page-number-29.png'.\n"
     ]
    },
    {
     "name": "stderr",
     "output_type": "stream",
     "text": [
      "30it [04:41,  7.87s/it]"
     ]
    },
    {
     "name": "stdout",
     "output_type": "stream",
     "text": [
      "Summarizing './docs\\images\\page-number-30.png'.\n"
     ]
    },
    {
     "name": "stderr",
     "output_type": "stream",
     "text": [
      "31it [04:54,  9.37s/it]"
     ]
    },
    {
     "name": "stdout",
     "output_type": "stream",
     "text": [
      "Summarizing './docs\\images\\page-number-31.png'.\n"
     ]
    },
    {
     "name": "stderr",
     "output_type": "stream",
     "text": [
      "32it [05:02,  8.82s/it]"
     ]
    },
    {
     "name": "stdout",
     "output_type": "stream",
     "text": [
      "Summarizing './docs\\images\\page-number-32.png'.\n"
     ]
    },
    {
     "name": "stderr",
     "output_type": "stream",
     "text": [
      "33it [05:09,  8.27s/it]"
     ]
    },
    {
     "name": "stdout",
     "output_type": "stream",
     "text": [
      "Summarizing './docs\\images\\page-number-33.png'.\n"
     ]
    },
    {
     "name": "stderr",
     "output_type": "stream",
     "text": [
      "34it [05:17,  8.19s/it]"
     ]
    },
    {
     "name": "stdout",
     "output_type": "stream",
     "text": [
      "Summarizing './docs\\images\\page-number-34.png'.\n"
     ]
    },
    {
     "name": "stderr",
     "output_type": "stream",
     "text": [
      "35it [05:30,  9.66s/it]"
     ]
    },
    {
     "name": "stdout",
     "output_type": "stream",
     "text": [
      "Summarizing './docs\\images\\page-number-35.png'.\n"
     ]
    },
    {
     "name": "stderr",
     "output_type": "stream",
     "text": [
      "36it [05:35,  9.32s/it]\n"
     ]
    }
   ],
   "source": [
    "\n",
    "import os\n",
    "from tqdm import tqdm\n",
    "from langchain_community.graphs import Neo4jGraph\n",
    "\n",
    "path_to_images_folder = os.path.join(\"./\", \"docs\", \"images\")\n",
    "\n",
    "files = os.listdir(path_to_images_folder)\n",
    "files.sort(key=lambda x: int(x.split('-')[2].split('.')[0]))\n",
    "\n",
    "\n",
    "for page_number, file_path in tqdm(enumerate(files)):\n",
    "  extracted_text = \"\"\n",
    "  image_path = os.path.join(path_to_images_folder, file_path)\n",
    "\n",
    "  if not os.path.isdir(image_path) and image_path.endswith(\".png\"):\n",
    "    print (f\"Summarizing '{image_path}'.\")\n",
    "    page_data = get_image_summary(image_path)\n",
    "    extracted_text += \" \" + page_data\n",
    "    \n",
    "    with open(\"extracted_text.txt\", 'a', encoding='utf-8') as text_writer :\n",
    "      text_writer.write(str(extracted_text))\n",
    "      text_writer.write(\"\\n\")\n",
    "      text_writer.write(f\"---PAGE {page_number + 1} END---\")\n",
    "      text_writer.write(\"\\n\")\n"
   ]
  },
  {
   "cell_type": "code",
   "execution_count": 17,
   "id": "d68bbc12",
   "metadata": {},
   "outputs": [],
   "source": [
    "import tiktoken\n",
    "\n",
    "def num_tokens_from_string(string: str, encoding_name: str) -> int:\n",
    "    \"\"\"Returns the number of tokens in a text string.\"\"\"\n",
    "    encoding = tiktoken.get_encoding(encoding_name)\n",
    "    num_tokens = len(encoding.encode(string))\n",
    "    return num_tokens\n"
   ]
  },
  {
   "cell_type": "code",
   "execution_count": 30,
   "id": "36081ebb",
   "metadata": {},
   "outputs": [
    {
     "name": "stdout",
     "output_type": "stream",
     "text": [
      "12128\n"
     ]
    },
    {
     "data": {
      "text/plain": [
       "' **VISVESVARAYA TECHNOLOGICAL UNIVERSITY**\\n\\n**Belagavi-590018**\\n\\n![University Logo](https://upload.wikimedia.org/wikipedia/en/thumb/4/4e/Visvesvaraya_Technological_University_logo.png/220px-Visvesvaraya_Technological_University_logo.png)\\n\\n**REPORT ON ACTIVITY POINT PROGRAM**\\n\\n**Submitted by**\\n\\n**Jaideep** &nbsp;&nbsp;&nbsp;&nbsp;&nbsp;&nbsp;&nbsp;&nbsp;&nbsp;&nbsp;&nbsp;&nbsp;&nbsp;&nbsp;&nbsp;&nbsp;&nbsp;&nbsp;&nbsp;&nbsp;&nbsp;&nbsp;&nbsp;&nbsp;&nbsp;&nbsp;&nbsp;&nbsp;&nbsp;&nbsp;&nbsp;&nbsp;&nbsp;&nbsp;&nbsp;&nbsp;&nbsp;&nbsp;&nbsp;&nbsp;&nbsp;&nbsp;&nbsp;&nbsp;&nbsp;&nbsp;&nbsp;&nbsp;&nbsp;&nbsp;&nbsp;&nbsp;&nbsp;&nbsp;&nbsp;&nbsp;&nbsp;&nbsp;&nbsp;&nbsp;&nbsp;&nbsp;&nbsp;&nbsp;&nbsp;&nbsp;&nbsp;&nbsp;&nbsp;&nbsp;&nbsp;&nbsp;&nbsp;&nbsp;&nbsp;&nbsp;&nbsp;&nbsp;&nbsp;&nbsp;&nbsp;&nbsp;&nbsp;&nbsp;&nbsp;&nbsp;&nbsp;&nbsp;&nbsp;&nbsp;&nbsp;&nbsp;&nbsp;&nbsp;&nbsp;&nbsp;&nbsp;&nbsp;&nbsp;&nbsp;&nbsp;&nbsp;&nbsp;&nbsp;&nbsp;&nbsp;&nbsp;&nbsp;&nbsp;&nbsp;&nbsp;&nbsp;&nbsp;&nbsp;&nbsp;&nbsp;&nbsp;&nbsp;&nbsp;&nbsp;&nbsp;&nbsp;&nbsp;&nbsp;&nbsp;&nbsp;&nbsp;&nbsp;&nbsp;&nbsp;&nbsp;&nbsp;&nbsp;&nbsp;&nbsp;&nbsp;&nbsp;&nbsp;&nbsp;&nbsp;&nbsp;&nbsp;&nbsp;&nbsp;&nbsp;&nbsp;&nbsp;&nbsp;&nbsp;&nbsp;&nbsp;&nbsp;&nbsp;&nbsp;&nbsp;&nbsp;&nbsp;&nbsp;&nbsp;&nbsp;&nbsp;&nbsp;&nbsp;&nbsp;&nbsp;&nbsp;&nbsp;&nbsp;&nbsp;&nbsp;&nbsp;&nbsp;&nbsp;&nbsp;&nbsp;&nbsp;&nbsp;&nbsp;&nbsp;&nbsp;&nbsp;&nbsp;&nbsp;&nbsp;&nbsp;&nbsp;&nbsp;&nbsp;&nbsp;&nbsp;&nbsp;&nbsp;&nbsp;&nbsp;&nbsp;&nbsp;&nbsp;&nbsp;&nbsp;&nbsp;&nbsp;&nbsp;&nbsp;&nbsp;&nbsp;&nbsp;&nbsp;&nbsp;&nbsp;&nbsp;&nbsp;&nbsp;&nbsp;&nbsp;&nbsp;&nbsp;&nbsp;&nbsp;&nbsp;&nbsp;&nbsp;&nbsp;&nbsp;&nbsp;&nbsp;&nbsp;&nbsp;&nbsp;&nbsp;&nbsp;&nbsp;&nbsp;&nbsp;&nbsp;&nbsp;&nbsp;&nbsp;&nbsp;&nbsp;&nbsp;&nbsp;&nbsp;&nbsp;&nbsp;&nbsp;&nbsp;&nbsp;&nbsp;&nbsp;&nbsp;&nbsp;&nbsp;&nbsp;&nbsp;&nbsp;&nbsp;&nbsp;&nbsp;&nbsp;&nbsp;&nbsp;&nbsp;&nbsp;&nbsp;&nbsp;&nbsp;&nbsp;&nbsp;&nbsp;&nbsp;&nbsp;&nbsp;&nbsp;&nbsp;&nbsp;&nbsp;&nbsp;&nbsp;&nbsp;&nbsp;&nbsp;&nbsp;&nbsp;&nbsp;&nbsp;&nbsp;&nbsp;&nbsp;&nbsp;&nbsp;&nbsp;&nbsp;&nbsp;&nbsp;&nbsp;&nbsp;&nbsp;&nbsp;&nbsp;&nbsp;&nbsp;&nbsp;&nbsp;&nbsp;&nbsp;&nbsp;&nbsp;&nbsp;&nbsp;&nbsp;&nbsp;&nbsp;&nbsp;&nbsp;&nbsp;&nbsp;&nbsp;&nbsp;&nbsp;&nbsp;&nbsp;&nbsp;&nbsp;&nbsp;&nbsp;&nbsp;&nbsp;&nbsp;&nbsp;&nbsp;&nbsp;&nbsp;&nbsp;&nbsp;&nbsp;&nbsp;&nbsp;&nbsp;&nbsp;&nbsp;&nbsp;&nbsp;&nbsp;&nbsp;&nbsp;&nbsp;&nbsp;&nbsp;&nbsp;&nbsp;&nbsp;&nbsp;&nbsp;&nbsp;&nbsp;&nbsp;&nbsp;&nbsp;&nbsp;&nbsp;&nbsp;&nbsp;&nbsp;&nbsp;&nbsp;&nbsp;&nbsp;&nbsp;&nbsp;&nbsp;&nbsp;&nbsp;&nbsp;&nbsp;&nbsp;&nbsp;&nbsp;&nbsp;&nbsp;&nbsp;&nbsp;&nbsp;&nbsp;&nbsp;&nbsp;&nbsp;&nbsp;&nbsp;&nbsp;&nbsp;&nbsp;&nbsp;&nbsp;&nbsp;&nbsp;&nbsp;&nbsp;&nbsp;&nbsp;&nbsp;&nbsp;&nbsp;&nbsp;&nbsp;&nbsp;&nbsp;&nbsp;&nbsp;&nbsp;&nbsp;&nbsp;&nbsp;&nbsp;&nbsp;&nbsp;&nbsp;&nbsp;&nbsp;&nbsp;&nbsp;&nbsp;&nbsp;&nbsp;&nbsp;&nbsp;&nbsp;&nbsp;&nbsp;&nbsp;&nbsp;&nbsp;&nbsp;&nbsp;&nbsp;&nbsp;&nbsp;&nbsp;&nbsp;&nbsp;&nbsp;&nbsp;&nbsp;&nbsp;&nbsp;&nbsp;&nbsp;&nbsp;&nbsp;&nbsp;&nbsp;&nbsp;&nbsp;&nbsp;&nbsp;&nbsp;&nbsp;&nbsp;&nbsp;&nbsp;&nbsp;&nbsp;&nbsp;&nbsp;&nbsp;&nbsp;&nbsp;&nbsp;&nbsp;&nbsp;&nbsp;&nbsp;&nbsp;&nbsp;&nbsp;&nbsp;&nbsp;&nbsp;&nbsp;&nbsp;&nbsp;&nbsp;&nbsp;&nbsp;&nbsp;&nbsp;&nbsp;&nbsp;&nbsp;&nbsp;&nbsp;&nbsp;&nbsp;&nbsp;&nbsp;&nbsp;&nbsp;&nbsp;&nbsp;&nbsp;&nbsp;&nbsp;&nbsp;&nbsp;&nbsp;&nbsp;&nbsp;&nbsp;&nbsp;&nbsp;&nbsp;&nbsp;&nbsp;&nbsp;&nbsp;&nbsp;&nbsp;&nbsp;&nbsp;&nbsp;&nbsp;&nbsp;&nbsp;&nbsp;&nbsp;&nbsp;&nbsp;&nbsp;&nbsp;&nbsp;&nbsp;&nbsp;&nbsp;&nbsp;&nbsp;&nbsp;&nbsp;&nbsp;&nbsp;&nbsp;&nbsp;&nbsp;&nbsp;&nbsp;&nbsp;&nbsp;&nbsp;&nbsp;&nbsp;&nbsp;&nbsp;&nbsp;&nbsp;&nbsp;&nbsp;&nbsp;&nbsp;&nbsp;&nbsp;&nbsp;&nbsp;&nbsp;&nbsp;&nbsp;&nbsp;&nbsp;&nbsp;&nbsp;&nbsp;&nbsp;&nbsp;&nbsp;&nbsp;&nbsp;&nbsp;&nbsp;&nbsp;&nbsp;&nbsp;&nbsp;&nbsp;&nbsp;&nbsp;&nbsp;&nbsp;&nbsp;&nbsp;&nbsp;&nbsp;&nbsp;&nbsp;&nbsp;&nbsp;&nbsp;&nbsp;&nbsp;&nbsp;&nbsp;&nbsp;&nbsp;&nbsp\\n---PAGE 1 END---\\n **SRINIVAS INSTITUTE OF TECHNOLOGY**\\n**MANGALURU-574143, KARNATAKA**\\n**(Accredited by NAAC)**\\n\\n**DEPARTMENT OF COMPUTER SCIENCE AND ENGINEERING**\\n\\n**CERTIFICATE**\\n\\nThis is to certify that **Mr. Jaideep** bearing USN **4SN19CS035** has completed __________ activity points under various headers as required by AICTE.\\n\\n**Prof. Harishma**  \\nMentor\\n\\n**Prof. Deepthi P Dsouza**  \\nCoordinator\\n\\n**Prof. Ravishankara K**  \\nHOD\\n\\n**Dr. Shrinivasa Mayya D**  \\nPrincipal\\n\\n**SRINIVAS GROUP**  \\n**SAMAGRA GNANA**  \\n**ESTD: 1988**\\n---PAGE 2 END---\\n # SRINIVAS INSTITUTE OF TECHNOLOGY\\n(Accredited by NAAC)  \\nValachil, Mangaluru-574143  \\n\\n## Department of Computer Science and Engineering\\n\\n### EVALUATION DETAILS\\n\\n**Name:** Jaideep  \\n**USN:** 4SN19CS035  \\n\\n| Activity header No. | Name of the activity                                             | No. Of hours completed | Earned Points |\\n|---------------------|-----------------------------------------------------------------|------------------------|---------------|\\n| 4                   | Promoting Tourism and Creating Awareness about Wildlife Conservation | 60                     |               |\\n| 14                  | Awareness on Diabetes mellitus                                  | 28                     |               |\\n| 14                  | Awareness of Covid-19                                           | 30                     |               |\\n| 5                   | Awareness on AR Powered Navigation                              | 33                     |               |\\n| 15                  | Swachh Bharath Abhiyaan                                         | 27                     |               |\\n| 1                   | Providing Quality Education for Primary school Students         | 24                     |               |\\n|                     | **TOTAL**                                                       | **202**                |               |\\n\\n**Signature of the mentor with name:**  \\n_________________________  \\n**Prof. Harishma KV**\\n---PAGE 3 END---\\n # SRINIVAS INSTITUTE OF TECHNOLOGY\\n(Accredited by NAAC)  \\nValachil, Mangaluru-574143  \\n\\n## Department of Computer Science and Engineering  \\n### A report on  \\n## AICTE ACTIVITY POINT PROGRAMME  \\n\\n| Name   | USN        |\\n|--------|------------|\\n| Jaideep | 4SN19CS035 |\\n\\n### Activity Head  \\nSpreading Public Awareness under Rural Outreach Program  \\n\\n### Activity Name  \\nPromoting Tourism and Creating Awareness about Wildlife Conservation  \\n\\n### Duration  \\n\\n| Date(s)    | No. of Hours |\\n|------------|--------------|\\n| 03/02/2020 | 7            |\\n| 04/02/2020 | 7            |\\n| 05/02/2020 | 6            |\\n| 06/02/2020 | 7            |\\n| 07/02/2020 | 7            |\\n| 10/02/2020 | 6            |\\n| 11/02/2020 | 7            |\\n| 12/02/2020 | 6            |\\n| 13/02/2020 | 7            |\\n| 03/02/2020 | 7            |\\n| **Total hours** | **60**   |\\n\\n| Mentor’s Name       | Mentor’s Signature with date |\\n|---------------------|------------------------------|\\n| Prof. Harishma K V  |                              |\\n\\n2019-2020\\n---PAGE 4 END---\\n # AICTE Activity Point Programme – Report\\n\\n## 1. Introduction\\n\\nThe following project is taken by me to make the people who live in rural areas to guide them about the need of conserving the wildlife for the sake of our next generation. By making them to know about the importance of wildlife, we may protect our animals to the small extinct. If they go on killing these animals, they’ll get extinct and the future generations cannot see these animals and we have to show them the pictures of these animals only. So, in order to educate people about these magnificent animals I have taken up this activity about ‘Wildlife Conservation’.\\n\\nWe know India is the large habitant of wildlife, but now number of animals are vanished. The main reason behind this problem is we the human. Because of our greediness we are goes on killing animals. In future may be the word “animals” couldn’t be seen anywhere. So, in order to have knowledge of animals we the students of Srinivas Institute of Technology, Valachill had a visit to Pilikula.\\n\\n## 2. Objective of the activity\\n\\n- The objective of the following activity is to create awareness amongst the people who are less educated about the wild animals which are harming their crops.\\n- And to provide precautionary or preventive measures against the animals which harm their crops.\\n- And also tell them the purpose why should we conserve these animals and protect them.\\n- Maintaining the number of animals in balance with their habitats.\\n- Keeping track of current habitat conditions.\\n- Preventing total extinction of species.\\n- The main objective of this activity is to create awareness among the people or to make them realize the extinction of wildlife without their habitat hence they are moving towards urban and farm fields to fulfil their needs.\\n\\n---\\n\\n*Department of Computer Science and Engineering, SIT, Mangaluru*\\n\\n*Page 2 | 4*\\n---PAGE 5 END---\\n # AICTE Activity Point Programme – Report\\n\\n## 3. Methodology\\n\\n- Identification of the animals which cause the problem.\\n- Next, we should identify why the animal is attacking or harming the crops.\\n- Next contact the respective RFO and describe him/her about the problems that they are facing with these wild animals’ entertainment.\\n- Next ask the RFO for solution which do not involve killing or do not involve any harm to the animal.\\n- Next follow the instructions given by the RFO or the authority which he/she direct you to ask help regarding your problems.\\n\\n## 4. Details\\n\\nFirst, we visited national biological park and we got information about wild animals. We also got information about why there is increased rate of wild animals. We also understood the need of biological parks. Ms. Suchitra gave us information about wildlife conservation and need of biological parks in society.\\n\\nThen we prepared questionnaire on the basics of animal activities and their effect on farm land. Then I visited village in Udupi named Saligrama to collect the information regarding this and also tried to create awareness not to harm the animals with still saving their crops. I discussed a lot of things with she gave much knowledge about the crop and also the idea which he uses to protect his field from wild animals.\\n\\nNext I visited a house near Kota of Udupi the owners name was Parvathi, she was practicing agriculture for 10 years, her farmland is located on low land the main crops she grew was peanuts and paddy I asked her about the animals which harmed his crops, to which she replied ducks and cows were harming her crops and I asked the precautionary measures she took to protect her crops to which she replied that she used to tie a cloth around the crops but I suggested her to put up electric fence to protect the crops.\\n\\n---\\n\\n*Department of Computer Science and Engineering, SIT, Mangaluru*  \\n*Page 3 | 4*\\n---PAGE 6 END---\\n **AICTE Activity Point Programme – Report**\\n\\n---\\n\\n### 5. Outcomes\\n\\n- Will understand the factors affecting the need to find sustainable practices for production of food, feed, and fiber and how to implement them.\\n- Better understanding about the behaviors of the animal and how to control it.\\n- Preventing the animal from harming the crop without killing it or harming it.\\n- People understanding the need to conserve the animals.\\n- Enough knowledge about wildlife conservation.\\n- Got the knowledge about science and its application.\\n- Got knowledge about old tradition in “Guttumnae”.\\n\\n---\\n\\n### 6. Annexure\\n\\n- **Biological park, pilikula**\\n\\n  ![Biological Park](https://example.com/biological_park.jpg)\\n  ![Pilikula Biological Park](https://example.com/pilikula_biological_park.jpg)\\n  ![Animals](https://example.com/animals.jpg)\\n  ![Entrance](https://example.com/entrance.jpg)\\n\\n- **Field visit**\\n\\n  ![Field Visit 1](https://example.com/field_visit_1.jpg)\\n  ![Field Visit 2](https://example.com/field_visit_2.jpg)\\n  ![Field Visit 3](https://example.com/field_visit_3.jpg)\\n  ![Field Visit 4](https://example.com/field_visit_4.jpg)\\n\\n---\\n\\n**Department of Computer Science and Engineering, SIT, Mangaluru**\\n\\n**Page 4 / 4**\\n---PAGE 7 END---\\n # SRINIVAS INSTITUTE OF TECHNOLOGY\\n(Accredited by NAAC)  \\nValachil, Mangaluru-574143  \\n\\n## Department of Computer Science and Engineering\\n\\n### A report on\\n\\n## AICTE ACTIVITY POINT PROGRAMME\\n\\n| Name   | Jaideep   | USN       | 4SN19CS035 |\\n|--------|-----------|-----------|------------|\\n\\n### Activity Head\\n\\nPromotion of appropriate technologies. Prepare and improve a plan to improve the health parameters of villagers. Implement develop technology solutions which will improve quality of life.\\n\\n### Activity Name\\n\\nAwareness on Diabetes mellitus\\n\\n### Duration\\n\\n| Date(s)     | No. of Hours |\\n|-------------|--------------|\\n| 04/11/2020  | 5            |\\n| 05/11/2020  | 5            |\\n| 06/11/2020  | 6            |\\n| 07/11/2020  | 7            |\\n| 13/11/2020  | 5            |\\n| **Total Hours** | **28**   |\\n\\n| Mentor’s Name       | Mentor’s Signature with date |\\n|---------------------|------------------------------|\\n| Prof. Harishma K V  |                              |\\n\\n2020-2021\\n---PAGE 8 END---\\n **AICTE Activity Point Programme – Report**\\n\\n---\\n\\n### 1. Introduction\\n\\nDiabetes mellitus is a group of metabolic diseases characterized by hyperglycemia resulting from defects in insulin secretion, insulin action, or both. The chronic hyperglycemia of diabetes is associated with long-term damage, dysfunction, and failure of various organs, especially the eyes, kidneys, nerves, heart, and blood vessels. Several pathogenic processes are involved in the development of diabetes. These range from autoimmune destruction of the β-cells of the pancreas with consequent insulin deficiency to abnormalities that result in resistance to insulin action.\\n\\nThe basis of the abnormalities in carbohydrate, fat, and protein metabolism in diabetes is deficient action of insulin on target tissues. Deficient insulin action results from inadequate insulin secretion and/or diminished tissue responses to insulin at one or more points in the complex pathways of hormone action. Impairment of insulin secretion and defects in insulin action frequently coexist in the same patient, and it is often unclear which abnormality, if either alone, is the primary cause of the hyperglycaemia.\\n\\nSymptoms of marked hyperglycaemia include polyuria, polydipsia, weight loss, sometimes with polyphagia, and blurred vision. Impairment of growth and susceptibility to certain infections may also accompany chronic hyperglycaemia. Acute, life-threatening consequences of uncontrolled diabetes are hyperglycaemia with ketoacidosis or the nonketotic hyperosmolar syndrome.\\n\\nThere are two types of Diabetes, type-1 and -2 diabetes. Both these conditions are associated with inflammation and type-1 diabetes also with an autoimmune pathology. Indeed, animal and human studies support the notion that adequate Vitamin-D supplementation may decrease the incidence of type-1 and possibly also of type-2 diabetes mellitus and may improve the metabolic control in the diabetes state. Doctors treat diabetes with a few different medications. Some of these drugs are taken by mouth, while others are available as injections.\\n\\n---\\n\\n**Department of Computer Science and Engineering, SIT, Mangaluru**  \\n**Page 2/4**\\n---PAGE 9 END---\\n # AICTE Activity Point Programme – Report\\n\\n## 2. Objective of the activity\\n\\n- To create a video on spreading awareness about health.\\n- To create a video that educates people about Diabetes mellitus.\\n- What kind of lifestyle can lead to diabetes?\\n- To create a video that prevents and treatment of the complications of diabetes mellitus.\\n\\n## 3. Methodology\\n\\n- Spreading awareness about lifestyle disease called Diabetes (type 2) by creating a video that educates people about Diabetes mellitus.\\n- Collected information about Diabetes mellitus.\\n- Created a video that Type 2 diabetes is a lifestyle disease. By adopting a healthy lifestyle, the risks and symptoms can be reduced.\\n- Explained about prevention and treatment of the complications of diabetes mellitus.\\n- And this video is posted on social media platforms like YouTube.\\n\\n## 4. Details\\n\\nDiabetes mellitus, commonly known as diabetes, is a metabolic disease that causes high blood sugar. The hormone insulin moves sugar from the blood into your cells to be stored or used for energy. With diabetes, your body either doesn’t make enough insulin or can’t effectively use the insulin it does make. Untreated high blood sugar from diabetes can damage your nerves, eyes, kidneys, and other organs.\\n\\n**There are a few different types of diabetes:**\\n\\n**Type 1** diabetes is an autoimmune disease. The immune system attacks and destroys cells in the pancreas, where insulin is made. It’s unclear what causes this attack. About 10 percent of people with diabetes have this type.\\n\\n**Type 2** diabetes occurs when your body becomes resistant to insulin, and sugar builds up in your blood.\\n\\nEach type of diabetes has unique symptoms, causes, and treatments.\\n\\n**Symptoms of diabetes**\\n\\nDiabetes symptoms are caused by rising blood sugar.\\n\\n---\\n\\n*Department of Computer Science and Engineering, SIT, Mangaluru*  \\n*Page 3 | 4*\\n---PAGE 10 END---\\n # AICTE Activity Point Programme – Report\\n\\n## General symptoms\\nThe general symptoms of diabetes include:\\n- Increased hunger\\n- Increased thirst\\n- Weight loss\\n- Frequent urination\\n- Blurry vision\\n- Extreme fatigue\\n- Sores that don’t heal\\n\\n## 5. Outcomes\\n- To get to know about Diabetes mellitus and its types.\\n- Awareness about lifestyle disease called Diabetes (type 2)\\n- Knowledge and practice on prevention of diabetes mellitus.\\n- Prevention and treatment of the complications of diabetes mellitus.\\n- Share the knowledge and influence others to get vaccinated.\\n- Making people aware and better understand about the Diabetes.\\n- Telling the steps to be followed in order to prevent the spread of the virus.\\n\\n## 6. Annexure\\n**Link:** [https://youtu.be/pChZP-qgB_A](https://youtu.be/pChZP-qgB_A)\\n\\n![Diabetes](https://i.imgur.com/1.jpg)\\n![Types of Diabetes](https://i.imgur.com/2.jpg)\\n![Type 1 Diabetes](https://i.imgur.com/3.jpg)\\n\\n---\\n\\n**Department of Computer Science and Engineering, SIT, Mangaluru**  \\n**Page 4/4**\\n---PAGE 11 END---\\n # SRINIVAS INSTITUTE OF TECHNOLOGY\\n(Accredited by NAAC)  \\nValachil, Mangaluru-574143  \\n\\n## Department of Computer Science and Engineering\\n\\n---\\n\\n### A report on  \\n## AICTE ACTIVITY POINT PROGRAMME\\n\\n---\\n\\n**Name**: JAIDEEP  \\n**USN**: 4SN19CS035  \\n\\n---\\n\\n### Activity Head\\nTo Skill Rural Population\\n\\n### Activity Name\\nAwareness Of Covid-19\\n\\n### Duration\\n\\n| Date(s)     | No. of Hours |\\n|-------------|--------------|\\n| 17/06/2021  | 10           |\\n| 18/06/2021  | 10           |\\n| 19/06/2021  | 10           |\\n| **Total Hours** | **30** |\\n\\n---\\n\\n**Mentor’s Name**: Prof. Harishma KV  \\n**Mentor’s Signature with date**:  \\n\\n---\\n\\n2020-2021\\n---PAGE 12 END---\\n # AICTE Activity Point Programme – Report\\n\\n## 1. Introduction\\n\\nA novel coronavirus outbreak was first documented in Wuhan, Hubei province, China in December 2019. Nearly 216 countries of the whole world are struggling for their civilization and livelihood against the coronavirus pandemic. On January 11, 2020 China declared first death of their 61 years old citizen due to covid 19, who was exposed to the seafood market, but now death reached exponentially to 357,736 on 29th May 2020. It has been confirmed on six continents and in more than 100 countries.\\n\\nAs the whole world\\'s health system funnel resources into learning about, treating, and preventing infections in humans, new information is released daily. In this two-part article series, we will first provide some history on coronavirus to put this disease outbreak in perspective, and discuss global health security and planning for pandemic response. Secondly, we will offer guidance from the best trusted sources for prevention and planning in the workplace and at home.\\n\\nAn international panel of experts undertook a comprehensive assessment and benchmarking of health security and response capabilities across 195 countries. The purpose was to address risks from infectious disease outbreak that could lead to international epidemics and pandemic and measure response capabilities for each nation.\\n\\n## 2. Objective of the activity\\n\\n- Wash your hands regularly with soap and water, or clean them with alcohol.\\n- Maintain at least 1 metre distance between you and people coughing or sneezing.\\n- Avoid touching your face.\\n- Cover your mouth and nose when coughing or sneezing.\\n- Stay home if you feel unwell.\\n- Refrain from smoking and other activities that weaken the lungs.\\n\\n---\\n\\n*Department of Computer Science and Engineering, SIT, Mangaluru*  \\n*Page 1 | 3*\\n---PAGE 13 END---\\n **AICTE Activity Point Programme – Report**\\n\\n- Practice physical distancing by avoiding unnecessary travel and staying away from large groups of people.\\n- Always wear masks.\\n\\n### 3. Methodology\\n\\n- I analysed about the Covid-19 Vaccines importance and how it works.\\n- I gathered information about the Covid-19 Vaccines.\\n- I prepared an animated video about the importance of Covid-19 Vaccines.\\n- I shared my ideas and clear information through video on social media.\\n\\n### 4. Details\\n\\n- At first, I visited a house where there were 6 members staying together. I asked them to tell what they know about the virus. They told that \"corona virus is an infectious disease but it won’t hurt other\". I disagreed to their answer and gave some extra information about the corona virus and also the necessity of wearing mask.\\n- Then I planned to visit another house and was walking through that way. I saw an old lady walking in a road without wearing a mask. I just suggested her to wear mask and explained about the Pandemic situation we are facing.\\n- Next I visited a family of three members and asked them how serious are the people in their locality about coronavirus. They said that day by day since the cases are increasing people are taking it seriously. But still some of them ignore it and go out without wearing mask. I just told them to suggest people to wear mask whenever they see people without mask.\\n- Then I visited Chandrappa\\'s family who were less bothered about the virus. I showed them some of the videos where people were struggling to breathe and explained them about the death rates and increasing cases in India and gave some information about the symptoms of Covid-19.\\n- Then I planned to visit another house and was walking through that way. I saw an old lady walking in a road without wearing a mask. I just suggested her to wear mask and explained about the Pandemic situation we are facing.\\n\\n---\\n\\n*Department of Computer Science and Engineering, SIT, Mangaluru*  \\n*Page 2 | 3*\\n---PAGE 14 END---\\n **AICTE Activity Point Programme – Report**\\n\\n### 5. Outcomes\\n\\n- Making people aware and better understand about this coronavirus. Educated the people about this virus.\\n- Telling the steps to be followed in order to prevent the spread of the virus.\\n- How to make people go along with the coronavirus and its prevention and not stop their daily work, giving them hope till vaccines reach all such rural areas.\\n- And thought them about the safety measures.\\n\\n### 6. Annexure\\n\\n**Link**: [https://youtu.be/0s7-ilB5MZ4](https://youtu.be/0s7-ilB5MZ4)\\n\\n![YouTube Video Screenshot](https://i.imgur.com/0s7-ilB5MZ4.png)\\n\\n**Video Title**: What is Coronavirus (COVID-19)?\\n\\n**Description on Video**:\\n- Coronavirus is a contagious viral strain that can be passed from one person to another, via:\\n  - Direct contact (within 2m/6ft)\\n  - Respiratory droplets - sneezing, coughing, talking\\n  - Touching a surface infected with the virus\\n\\n---\\n\\n**Department of Computer Science and Engineering, SIT, Mangaluru**  \\n**Page 3 | 3**\\n---PAGE 15 END---\\n # SRINIVAS INSTITUTE OF TECHNOLOGY\\n(Accredited by NAAC)  \\nValachil, Mangaluru-574143  \\n\\n## Department of Computer Science and Engineering\\n\\n### A report on\\n\\n# AICTE ACTIVITY POINT PROGRAMME\\n\\n| Name   | Jaideep   | USN       | 4SN19CS035 |\\n|--------|-----------|-----------|------------|\\n\\n### Activity Head\\nPromotion of Appropriated Technology\\n\\n### Activity Name\\nAwareness on AR Powered Navigation\\n\\n### Duration\\n\\n| Date(s)     | No. of Hours |\\n|-------------|--------------|\\n| 06-11-2022  | 5            |\\n| 08-11-2022  | 6            |\\n| 09-11-2022  | 7            |\\n| 10-11-2022  | 7            |\\n| 11-11-2022  | 8            |\\n| **Total hours** | **33**       |\\n\\n| Mentor’s Name       | Prof. Harishma K V | Mentor’s Signature with date |\\n|---------------------|--------------------|------------------------------|\\n\\n2022-2023\\n---PAGE 16 END---\\n **AICTE Activity Point Programme – Report**\\n\\n---\\n\\n### 1. Introduction\\n\\nIn recent years, mobile phones and handheld devices have become powerful enough to be able to provide augmented reality (AR) experiences. Systems can be used to show virtual representation of points of interest (POI) superimposed over the real world, and applications. There are many potential applications, such as for tourist guides, as a restaurant finder, providing directions to the subway, or even artistic installations. In all of these cases the mobile AR system can guide a user to a particular destination. In a recent study, Teevan et al found that the most common reason for performing a local search on a mobile device was to get directions to the target location (52%). This was followed by wanting to go somewhere (43%), or choosing a specific place to go (21%). Although current AR browsers can show users the location of POI, users generally want to find their way to this POI.\\n\\nHowever, there has been little research on how effective this information is for supporting real world navigation. With a range of currently available AR browsers it is interesting to explore how the information provided by these apps (i.e. location information of POIs in the user’s surroundings) can be used for outdoor navigation compared to other methods such as digital maps. One fundamental difference between AR browsers and maps for navigation is that maps provide a top down exocentric view of the environment, while AR adds virtual location information to an egocentric view of the real world. Our aim was not to attempt to improve upon these interfaces or provide new or additional functionalities, but to explore the affordances and limitations of currently available systems. This work is one of the first comparative outdoor navigation studies using a handheld AR system and so should provide valuable information for designers and researchers who are developing similar systems.\\n\\n---\\n\\n**Department of Computer Science and Engineering, SIT, Mangaluru**\\n\\n**Page 2 | 11**\\n---PAGE 17 END---\\n **AICTE Activity Point Programme – Report**\\n\\n### 2. Objective of the activity\\n\\nThis article addressed goes through aspects of augmented reality, navigation and unites them to develop a system which navigates campus. Through the experiments, the system can help users to visit different locations in the campus, gather more precise information about the hospital. This helps understanding the architecture better. This system can be further used to navigate similar applications, such as big factories, IT centers and large malls.\\n\\nAlthough we could not find performance benefits for the AR+Map interface, the participants clearly preferred this interface condition because it provides them with more choices. Offering interfaces that do not lock users into one type of interaction or only provide one type of information but let the users choose can increase the user experience. Our findings suggest that there is no best navigation aid suitable for all kinds of users or environments. Each interface had advantages and disadvantages in certain environments. Current AR interfaces certainly seem to work better in cases where there is little obstruction between user and target. They provide little depth cues and information whether or not there is a direct route to the point of interest. While detailed cartographic maps could provide such route information, this data is not readily available for many locations.\\n\\nHere this AR navigation helps them.\\n\\n- **Campus** - the exact position and detail location of every block can be obtained by using the augmented reality technology.\\n- **Hospital and other infrastructure** - indoor navigation.\\n- **E-commerce and Retail** - augmented reality app development is about to reshape on- and off-line shopping.\\n- **Interior Design, Landscaping & Urban Planning apps** - like IKEA Place helps to measure objects, walls etc.\\n- **Games, Leisure, and Entertainment** - the viral Pokémon GO is still the first AR app that comes to most people’s mind when they think of AR.\\n\\n---\\n\\n**Department of Computer Science and Engineering, SIT, Mangaluru**\\n\\n**Page 3 | 11**\\n---PAGE 18 END---\\n # AICTE Activity Point Programme – Report\\n\\n## 3. Methodology\\n\\nThe methodology of planting saplings on Earth Day can vary depending on the context and location of the planting. However, some general steps that can be followed for planting saplings on Earth Day are:\\n\\n- **Planning and preparation**: Before planting saplings, it is essential to identify the location for planting and ensure that the soil is suitable for the type of saplings that will be planted. It is also important to obtain the necessary permits and permissions for planting in the chosen location.\\n- **Selecting saplings**: Choose saplings that are native to the region and suitable for the planting location. Consider the climate, soil type, and available sunlight when selecting saplings.\\n- **Digging holes**: Dig holes in the soil that are deep enough to accommodate the roots of the saplings. The depth and width of the hole should be at least twice the size of the root ball.\\n- **Planting the saplings**: Place the sapling in the hole and backfill with soil, making sure that the sapling is straight and the roots are covered.\\n- **Watering and Mulching**: Water the saplings thoroughly after planting, and add mulch around the base of the sapling to help retain moisture and control weeds.\\n- **Care and maintenance**: Regular care and maintenance are essential to ensure the success of the saplings. Water the saplings regularly, especially during dry spells. Prune and shape the saplings as needed and protect them from pests and diseases.\\n- **Monitoring and evaluation**: Monitor the saplings regularly to ensure their health and growth. Evaluate the success of the planting after a few months or years to assess the impact of the planting on the environment.\\n\\nIn conclusion, the methodology of planting saplings on Earth Day involves planning and preparation, selecting suitable saplings, digging holes, planting the saplings, watering and mulching, care and maintenance, and monitoring and evaluation. Following these steps can ensure the success of the planting and contribute to environmental conservation and sustainable living.\\n\\n---\\n\\n**Department of Computer Science and Engineering, SIT, Mangaluru**\\n\\n**Page 4 | 11**\\n---PAGE 19 END---\\n **AICTE Activity Point Programme – Report**\\n\\n---\\n\\n**4. Details**\\n\\nThe handled devices that most of the user have are Android or IOS devices. Here the application provides data to all the user. In order to do so here we maintain a single centralized cloud storage. This cloud storage store location details in terms of latitude and longitude with label that represent the Event/Location name.\\n\\n![System Architecture working flow](https://i.imgur.com/3J1y1.png)\\n\\n**Fig.3.1 System Architecture working flow**\\n\\n---\\n\\n**Department of Computer Science and Engineering, SIT, Mangaluru**  \\n**Page 5 | 11**\\n---PAGE 20 END---\\n **AICTE Activity Point Programme – Report**\\n\\n![Diagram of Web and Mobile application working](https://i.imgur.com/6J1J1.png)\\n\\n*Fig. 3.2 Web and Mobile application working*\\n\\nThe above working diagram shows both Admin and User application working. Admin application is web application it enables admin to add new locations other than already saved location in maps like Google Maps. ARNav Web application on landing it shows the two dimensional view of map that is powered by Mapbox using this admin can add new location by giving label to new location coordinates. Then admin application has the capability to list all the saved location details in a table format.\\n\\nThe User application is a mobile application. On visiting the user see the default screen with list of destination options from with the user can select the desired location that the admin has added. These locations can be Event or a place location where the admin want user to visit. User can remove destination details on the middle of screen by using hide and show button.\\n\\nThis application also can update the location on real-time basis. In order to get latest location details user has to click on the fetch data options. In this way new data is populated into the drop-down. In case user see misguided path. There is option to restart the navigation by clicking the Refresh Route option.\\n\\n---\\n\\n**Department of Computer Science and Engineering, SIT, Mangaluru**\\n\\n*Page 6 | 11*\\n---PAGE 21 END---\\n **AICTE Activity Point Programme – Report**\\n\\n---\\n\\n![Flow Diagram](image)\\n\\n**Fig. 3.3 Location updating request flow diagram.**\\n\\nThe above figure shows how User application makes a API call and updates User Interface. Upon clicking the fetch data user application makes a API call to central cloud storage system. If the request is not success, then it call API gain. But if it is success then it parses the data from response. This data is then populated into the dropdown list. At last the application re-render the dropdown UI element to reflect the changes.\\n\\n---\\n\\n**Department of Computer Science and Engineering, SIT, Mangaluru**  \\n**Page 7 | 11**\\n---PAGE 22 END---\\n **AICTE Activity Point Programme – Report**\\n\\n---\\n\\n![AR Navigation Location adder](image1.png)\\n\\n**Fig. 3.4 Web list view of all saved location.**\\n\\nThe system consists of Admin web application. Using this web application admin can add new location. It provides a 2 dimensional map view. This map is powered by Mapbox. Admin can add a custom title to new location that can be any event or building name.\\n\\n| #  | Label                | Latitude           | Longitude           |\\n|----|----------------------|--------------------|---------------------|\\n| 1  | Admin AED Tools      | 12.876857076999999 | 74.88264918399999   |\\n| 2  | Canteen              | 12.876857076999999 | 74.88264918399999   |\\n| 3  | Expert PU College    | 12.876857076999999 | 74.88264918399999   |\\n| 4  | Juice Center         | 12.876857076999999 | 74.88264918399999   |\\n| 5  | Kottara Tiff         | 12.876857076999999 | 74.88264918399999   |\\n| 6  | SIT Automobile Lab   | 12.876857076999999 | 74.88264918399999   |\\n| 7  | SIT Boys Hostel      | 12.876857076999999 | 74.88264918399999   |\\n| 8  | SIT College Ground   | 12.876857076999999 | 74.88264918399999   |\\n| 9  | SIT Electrical Dept  | 12.876857076999999 | 74.88264918399999   |\\n| 10 | SIT Main Gate        | 12.876857076999999 | 74.88264918399999   |\\n| 11 | SIT Pharmacy Building| 12.876857076999999 | 74.88264918399999   |\\n| 12 | SIT Library Block    | 12.876857076999999 | 74.88264918399999   |\\n| 13 | SIT Nursing Building | 12.876857076999999 | 74.88264918399999   |\\n\\n---\\n\\n![AR Navigation Location adder](image2.png)\\n\\n**Fig. 3.5 Admin Web application view**\\n\\n---\\n\\n**Department of Computer Science and Engineering, SIT, Mangaluru**\\n\\n**Page 8 | 11**\\n---PAGE 23 END---\\n **AICTE Activity Point Programme – Report**\\n\\nAfter submitting the event/location details from web view the data is sent to could using API. Here we used Google’s firebase REALTIME DATABASE. This firebase could storage helps to save and synch data across devices in real-time.\\n\\n![Unity IDE Screenshot](image.png)\\n\\n*Fig 3.6 Application design in Unity IDE*\\n\\nUnity IDE provides various options to add UI elements to screen. Unity is a game engine and integrated development environment. While Unity is primarily aimed at game development, it is not limited to games only. In fact, there is no reason you can’t use Unity to build a host of other tools, utilities, business apps, and the like. The first use case is that Unity makes Android app development quicker and easier. Unity is a cross-platform tool, meaning that you can easily create apps for Android, iOS, and Windows with very few alterations needed.\\n\\nThe main tool used to create this project using Unity is AR + GPS location package. The Unity AR+GPS Location asset brings the ability to position 3D objects in real-world geographical locations via their GPS coordinates using Unity and Augmented-Reality. It supports both Unity\\'s AR Foundation and Vuforia. It works by mixing both GPS data and the AR tracking done by AR Foundation or Vuforia.\\n\\n---\\n\\n*Department of Computer Science and Engineering, SIT, Mangaluru*\\n\\n*P a g e 9 | 11*\\n---PAGE 24 END---\\n ### AICTE Activity Point Programme – Report\\n\\n---\\n\\n#### 5. Outcomes\\n\\nMobile application provides user interface with list of location that admin has added via web application. These list of destinations can be accessed by dropdown button. User can select only one destination from those options. After selecting a location from dropdown application has Start button on click the navigation starts. Admin can add new locations at any time. So using Fetch Location button user can get latest location details from could. placed with respect to the user’s devices.\\n\\n**Main Features**\\n- Place 3D Objects in geographical positions defined by their latitude, longitude and altitude.\\n- AR Hotspots that are activated when the user is near a given location.\\n- Place 3D Text markers on real-world points of interest (example using OpenStreetmaps is included.)\\n- Smooth movements on device location and heading updates.\\n- Move objects or place them along paths (Catmull-rom splines) on the map.\\n- Augmented reality floor shadows.\\n\\n**Limitations**\\n- Altitude information is usually very imprecise so, currently, it\\'s best to use heights relative to the device position or relative to detected ground planes.\\n- Landscape mode does not work well on may Android devices, due to a problem with tilt-compensation on the magnetic sensor data.\\n- There are limits due to the GPS precision. So, on good conditions precision can range from 2 to 5 meters, and on bad conditions from 10 to 20 meters.\\n- Does not work well on indoors.\\n\\n---\\n\\n**Department of Computer Science and Engineering, SIT, Mangaluru**\\n\\n**P a g e 10 | 11**\\n---PAGE 25 END---\\n **AICTE Activity Point Programme – Report**\\n\\n**6. Annexure**\\n\\n*Image Descriptions:*\\n\\n1. The first image on the left shows an AR Navigation interface with the text \"Turn right.\" The destination is \"SIT Boys Hostel,\" which is 11 meters away. There are options to \"Show/Hide Option,\" \"Report a Problem,\" and \"Pinch Data.\"\\n\\n2. The second image in the middle shows a classroom or lab setting at Srinivas Institute of Technology (SIT). There are multiple computer stations, and a person is standing in front of a projector screen.\\n\\n3. The third image at the bottom shows another view of the same or similar classroom or lab setting at Srinivas Institute of Technology (SIT). Students are seated at computer stations, and a presentation is being displayed on the projector screen.\\n\\n*Footer:*\\nDepartment of Computer Science and Engineering, SIT, Mangaluru\\n\\n*Page Number:*\\nPage 11/11\\n---PAGE 26 END---\\n **SRINIVAS INSTITUTE OF TECHNOLOGY**\\n(Accredited by NAAC)\\nValachil, Mangaluru-574143\\n\\n**Department of Computer Science and Engineering**\\n\\n---\\n\\n**A report on**\\n\\n**AICTE ACTIVITY POINT PROGRAMME**\\n\\n---\\n\\n| Name    | Jaideep    | USN       | 4SN19CS035 |\\n|---------|------------|-----------|------------|\\n\\n---\\n\\n**Activity Head**\\n\\nContribution to any national level Initiative of government of India. For e.g. digital India/ Skill India/ Swachh Bharat Internship etc.\\n\\n**Activity Name**\\n\\nSwachh Bharat Abhiyan\\n\\n---\\n\\n**Duration**\\n\\n| Date(s)     | No. of Hours |\\n|-------------|--------------|\\n| 06/02/2023  | 7            |\\n| 07/02/2023  | 7            |\\n| 08/02/2023  | 6            |\\n| 09/02/2023  | 7            |\\n| **Total hours** | **27**         |\\n\\n---\\n\\n| Mentor’s Name       | Prof. Harishma K V | Mentor’s Signature with date |\\n|---------------------|--------------------|------------------------------|\\n\\n---\\n\\n**2020-2021**\\n---PAGE 27 END---\\n # AICTE Activity Point Programme – Report\\n\\n## 1. Introduction\\n\\nThe campaign was officially launched on 2 October 2014 at Rajghat, New Delhi, which was the dream of Mahatma Gandhi, which he in his lifetime demonstrated, propagated, and insisted for individuals and community cleanliness. Following his footsteps, the Government of India, led by Prime Minister Narendra Modi launched this mission with a vision of achieving \"Clean India.\" It is India\\'s largest cleanliness drive to date with three million government employees and students from all parts of India participating in 4,043 cities, towns, and rural communities. The mission aims to make India an open defecation free country in five years. Under the mission, one lakh thirty-four thousand crore rupees will be spent for construction of about 11 crore 11 lakh toilets in the country.\\n\\nThe Swachh Bharat Mission programme, under the Ministry of Drinking Water and Sanitation, which is a flagship programme of the Government of India. The tagline of this campaign is \"Ek kadam swachhta ki ore\" which translates to \"A step towards cleanliness\". The scope of the programme was expanded in 1999 and Total Sanitation Campaign (TSC) was launched. In 2012, the government revamped TSC to Nirmal Bharat Abhiyan (NBA), which continued till late 2014 before being renamed Swachh Bharat Abhiyan by NDA. This initiative aims to clean India and make it free of open defecation. I have been contributing to this initiative by disseminating information on sanitation, waste management, and hygiene.\\n\\nThe contribution of this report is to these national-level initiatives to provide information and guidance on Swachh Bharat Mission, enabling decision-making, and promoting awareness among people. Through my support, I hope to contribute to the development of a better India.\\n\\n## 2. Objective of the activity\\n\\n- **Clean India:** The primary objective of the initiative is to create a clean and hygienic India by ensuring the proper disposal of waste and promoting cleanliness.\\n- **Open defecation-free India:** The initiative aims to eliminate open defecation in India and ensure that every household has access to a toilet.\\n- **Improved sanitation:** The initiative aims to improve sanitation facilities in urban and rural areas by promoting the construction of toilets, drainage systems, and waste management facilities.\\n\\n---\\n\\n*Department of Computer Science and Engineering, SIT, Mangaluru*\\n\\n*Page 2 | 6*\\n---PAGE 28 END---\\n **AICTE Activity Point Programme – Report**\\n\\n- **Behavioral change:** The initiative aims to bring about a change in the behavior of citizens towards cleanliness and hygiene.\\n- **Awareness:** The initiative aims to create awareness among people about the benefits of cleanliness and hygiene.\\n- **Health and hygiene:** The initiative aims to improve the health and hygiene of people by promoting the use of toilets, safe drinking water, and proper waste disposal.\\n\\n### 3. Methodology\\n\\n- The first step taken towards this drive was to promote Green India, Clean India Mission launched by the Govt.\\n- I along with my friends took initiative to approach the concerned people for the participation.\\n- Every weekend, I volunteered the drive.\\n- The plastics collected were disposed of safely by the students.\\n- Also, the Conferences on waste management system were arranged during some weekends. The initiative promotes the proper disposal of waste and the creation of waste management facilities in urban and rural areas.\\n\\n### 4. Details\\n\\nSwachh Bharat Mission fundamentally points in achieving an improvement in the personal satisfaction in the provincial regions, by advancing tidiness and zeroing in on logical strong and fluid waste administration frameworks for by and large neatness in the country regions. Consistently and in some cases even on different days, I chipped in Swachh Bharat drive under Ramakrishna Mission at various areas and cleaned the particular regions utilizing different apparatuses and gloves. I along with many volunteers cleaned areas like Adyar, Srinivas Institute of Technology, Ladies hostel surroundings. As cleanliness is next to Godliness this small step was taken by me to keep our surroundings clean. We started our cleaning at sharp 9AM and ended up around 5.30PM in the evening. In the middle we had a break enjoyed having lunch with friends and a good day.\\n\\n---\\n\\n**Department of Computer Science and Engineering, SIT, Mangaluru**  \\n**Page 3 | 6**\\n---PAGE 29 END---\\n **AICTE Activity Point Programme – Report**\\n\\n---\\n\\n![Image of people working outdoors]\\n\\n---\\n\\n### 5. Outcomes\\n\\nThough many challenges remain, governments seeking to achieve the sustainable development goal of universal access to safe sanitation can emulate the success of India’s Swachh Bharat Mission. This is an open access article distributed in accordance with the Creative Commons Attribution Non-Commercial license, which permits others to distribute, remix, adapt, build upon this work non-commercially, and license their derivative works on different terms, provided the original work is properly cited, appropriate credit is given, any changes made indicated, and the use is non-commercial.\\n\\n- Cleanliness helps in clean mental and physical health which will make us feel good.\\n- Sanitation and neatness play an important role in our day-to-day routine.\\n- Increased level of individual productivity.\\n- Cultivate positive emotions. Good amount of teamwork was seen.\\n\\n---\\n\\n**Department of Computer Science and Engineering, SIT, Mangaluru**  \\n**Page 4 | 6**\\n---PAGE 30 END---\\n **AICTE Activity Point Programme – Report**\\n\\n---\\n\\n**6. Annexure**\\n\\nLink: [https://youtu.be/9jivykJpFlk](https://youtu.be/9jivykJpFlk)\\n\\n![Image of people standing and working outdoors](https://youtu.be/9jivykJpFlk)\\n\\n![Image of people working outdoors](https://youtu.be/9jivykJpFlk)\\n\\n![Image of people working outdoors](https://youtu.be/9jivykJpFlk)\\n\\n![Image of people working outdoors](https://youtu.be/9jivykJpFlk)\\n\\n---\\n\\n**Department of Computer Science and Engineering, SIT, Mangaluru**\\n\\n**P a g e 5 | 6**\\n---PAGE 31 END---\\n # SRINIVAS INSTITUTE OF TECHNOLOGY\\n(Accredited by NAAC)  \\nValachil, Mangaluru-574143  \\n\\n## Department of Computer Science and Engineering\\n\\n### A report on\\n\\n## AICTE ACTIVITY POINT PROGRAMME\\n\\n| Name   | USN        |\\n|--------|------------|\\n| Jaideep | 4SN19CS035 |\\n\\n### Activity Head\\n\\nHelping Local Schools to Achieve Good Result and Enhance Their Enrolment in Higher/ Technical/ Vocational Education\\n\\n### Activity Name\\n\\nProviding Quality Education to Primary School Students\\n\\n### Duration\\n\\n| Date(s)     | No. of Hours |\\n|-------------|--------------|\\n| 23-02-2023  |              |\\n| to          | 24           |\\n| 26-02-2023  |              |\\n| **Total hours** | **24** |\\n\\n| Mentor’s Name       | Mentor’s Signature with date |\\n|---------------------|------------------------------|\\n| Prof. Harishma K V  |                              |\\n\\n2022-2023\\n---PAGE 32 END---\\n # AICTE Activity Point Programme – Report\\n\\n## 1. Introduction\\n\\nSchool life is the golden period of human’s life. It is the period of learning manners and making habits. It is the period of enjoying and merry making with friends and classmate. School life is very important part of one\\'s life, because it provides opportunity for study and discipline. Besides these, the school life is a preparatory stage for entering public life. School is the best period of human life. People are learning from his childhood in the school, and also a school built the characters of the human. It is the formative period for everyone. Every student should try to make their better life and best use of school life because it never comes again after the school session. On 23-02-2023 to 26-02-2023 we went to Government Primary School Valachil to provide quality education to the primary students.\\n\\n## 2. Objective of the activity\\n\\n- Visiting the primary school to provide quality education and teaching them basics techniques to solve mathematical problems faster.\\n- Raising awareness about how important is to save water and hence improve the health of Mother Earth.\\n- Spreading awareness on the effects of mobile phone and how it be useful.\\n- Teaching students how to improve their communication skills.\\n- Acknowledging the students that behavioral improves is beneficial.\\n- Reminding the vast beautiful aspects of the upcoming technology.\\n- Practicing yoga and hence incrementing their concentration ability.\\n- Playing indoor and outdoor games to create reminder that even co-curricular activity has to go hand in hand with the current line education.\\n- Understanding likes and dislikes of the students and helping them to choose what they are good at.\\n- Developing inter and intrapersonal skills among students.\\n\\n---\\n\\n**Department of Computer Science and Engineering, SIT, Mangaluru**\\n\\n**Page 2 | 5**\\n---PAGE 33 END---\\n # AICTE Activity Point Programme – Report\\n\\n## 3. Methodology\\n\\n- On 15-10-2022 to 25-02-2023 we visited Valachil primary school.\\n- We reached at 9.00am.\\n- We teach some of importance of good educations for the students.\\n- We also conduct some of co-curricular activity for the students.\\n- At 1.00pm we had lunch with a student.\\n- At 2.00pm the class was again continued.\\n- Till 4.30pm we will present by doing various activity.\\n\\n## 4. Details\\n\\nAs a part of AICTE activity me and my friends made a discussion of providing a quality education for the primary school students. We visited primary school, A at 9.am. Started our activity with a student. We conducted our activity for 10 days with a student. Different day we did different type of activities. At 1st day we did simple mathematics to improve students logical reasoning skills. 2nd day we taught student to not to waste the water and benefits of saving natural resources and mother Earth. 3rd day we taught the student how to improve their communication skills.\\n\\n![Group of students and teachers](attachment1.jpg)\\n![Teacher and student](attachment2.jpg)\\n\\n---\\n\\n**Department of Computer Science and Engineering, SIT, Mangaluru**\\n\\n**Page 3 | 5**\\n---PAGE 34 END---\\n **AICTE Activity Point Programme – Report**\\n\\n![Image of students and teachers in a classroom setting]\\n\\n4th day we acknowledged the students that behavioral improvement is beneficial. 5th day we explained the effects of mobiles. 6th day yoga and cultural activities. 7th day we gave awareness about the plastic waste which is harmful for the environment. 8th day we taught some indoor and outdoor games to create reminder that even co-curricular activity is necessary. 9th day we explained sharing is caring by simple skit form.\\n\\n![Image of students participating in activities]\\n\\nAt last day we assembled with a prayer and we started our day. That day we gave some importance suggestion to the students how to build a confidence among themselves and also how to improve the thinking capacity. All 10 days we reached at 9.00am and we had Our lunch at 1.00pm with students. Till 4.30pm we will present by doing various activity. This activity gave me wonderful experience with the students. I believe that I made my best for providing quality education for the primary students.\\n\\n**Department of Computer Science and Engineering, SIT, Mangaluru**\\n\\n**Page 4 of 5**\\n---PAGE 35 END---\\n # AICTE Activity Point Programme – Report\\n\\n## 5. Outcomes\\n\\n- Finally, we are very happy to give our best to provide a good quality education for the primary students.\\n- Students get information causes and effect of mobile phones.\\n- Students got idea how to save the water and environment.\\n- Students to give different techniques to improve their knowledge.\\n- Successfully acknowledged students to understand the quality of education to be provided and learn excess things in a much preferable way.\\n\\n## 6. Annexure\\n\\nLink: [https://www.youtube.com/watch?v=JpI13mIgxml&feature=youtu.be](https://www.youtube.com/watch?v=JpI13mIgxml&feature=youtu.be)\\n\\n![Group of students and teachers](attachment:image.jpg)\\n\\n---\\n\\n**Department of Computer Science and Engineering, SIT, Mangaluru**\\n\\n**Page 5 | 5**\\n---PAGE 36 END---\\n'"
      ]
     },
     "execution_count": 30,
     "metadata": {},
     "output_type": "execute_result"
    }
   ],
   "source": [
    "extracted_text = \"\"\n",
    "with open(\"extracted_text.txt\", 'r', encoding='utf-8') as text_writer:\n",
    "  extracted_text = text_writer.read()\n",
    "  print(num_tokens_from_string(extracted_text, 'cl100k_base'))\n",
    "  "
   ]
  },
  {
   "cell_type": "code",
   "execution_count": 22,
   "id": "57686958",
   "metadata": {},
   "outputs": [
    {
     "data": {
      "text/plain": [
       "['**VISVESVARAYA TECHNOLOGICAL UNIVERSITY**\\n\\n**Belagavi-590018**\\n\\n![University Logo](https://upload.wikimedia.org/wikipedia/en/thumb/4/4e/Visvesvaraya_Technological_University_logo.png/220px-Visvesvaraya_Technological_University_logo.png)\\n\\n**REPORT ON ACTIVITY POINT PROGRAM**\\n\\n**Submitted by**',\n",
       " '**Jaideep**',\n",
       " '&nbsp;&nbsp;&nbsp;&nbsp;&nbsp;&nbsp;&nbsp;&nbsp;&nbsp;&nbsp;&nbsp;&nbsp;&nbsp;&nbsp;&nbsp;&nbsp;&nbsp;&nbsp;&nbsp;&nbsp;&nbsp;&nbsp;&nbsp;&nbsp;&nbsp;&nbsp;&nbsp;&nbsp;&nbsp;&nbsp;&nbsp;&nbsp;&nbsp;&nbsp;&nbsp;&nbsp;&nbsp;&nbsp;&nbsp;&nbsp;&nbsp;&nbsp;&nbsp;&nbsp;&nbsp;&nbsp;&nbsp;&nbsp;&nbsp;&nbsp;&nbsp;&nbsp;&nbsp;&nbsp;&nbsp;&nbsp;&nbsp;&nbsp;&nbsp;&nbsp;&nbsp;&nbsp;&nbsp;&nbsp;&nbsp;&nbsp;&nbsp;&nbsp;&nbsp;&nbsp;&nbsp;&nbsp;&nbsp;&nbsp;&nbsp;&nbsp;&nbsp;&nbsp;&nbsp;&nbsp;&nbsp;&nbsp;&nbsp;&nbsp;&nbsp;&nbsp;&nbsp;&nbsp;&nbsp;&nbsp;&nbsp;&nbsp;&nbsp;&nbsp;&nbsp;&nbsp;&nbsp;&nbsp;&nbsp;&nbsp;&nbsp;&nbsp;&nbsp;&nbsp;&nbsp;&nbsp;&nbsp;&nbsp;&nbsp;&nbsp;&nbsp;&nbsp;&nbsp;&nbsp;&nbsp;&nbsp;&nbsp;&nbsp;&nbsp;&nbsp;&nbsp;&nbsp;&nbsp;&nbsp;&nbsp;&nbsp;&nbsp;&nbsp;&nbsp;&nbsp;&nbsp;&nbsp;&nbsp;&nbsp;&nbsp;&nbsp;&nbsp;&nbsp;&nbsp;&nbsp;&nbsp;&nbsp;&nbsp;&nbsp;&nbsp;&nbsp;&nbsp;&nbsp;&nbsp;&nbsp;&nbsp;&nbsp;&nbsp;&nbsp;&nbsp;&nbsp;&nbsp;&nbsp;&nbsp;&nbsp;&nbsp;&nbsp;&nbsp;&nbsp;&nbsp;&nbsp;&nbsp;&nbsp;&nbsp;&nbsp;&nbsp;&nbsp;&nbsp;&nbsp;&nbsp;&nbsp;&nbsp;&nbsp;&nbsp;&nbsp;&nbsp;&nbsp;&nbsp;&nbsp;&nbsp;&nbsp;&nbsp;&nbsp;&nbsp;&nbsp;&nbsp;&nbsp;&nbsp;&nbsp;&nbsp;&nbsp;&nbsp;&nbsp;&nbsp;&nbsp;&nbsp;&nbsp;&nbsp;&nbsp;&nbsp;&nbsp;&nbsp;&nbsp;&nbsp;&nbsp;&nbsp;&nbsp;&nbsp;&nbsp;&nbsp;&nbsp;&nbsp;&nbsp;&nbsp;&nbsp;&nbsp;&nbsp;&nbsp;&nbsp;&nbsp;&nbsp;&nbsp;&nbsp;&nbsp;&nbsp;&nbsp;&nbsp;&nbsp;&nbsp;&nbsp;&nbsp;&nbsp;&nbsp;&nbsp;&nbsp;&nbsp;&nbsp;&nbsp;&nbsp;&nbsp;&nbsp;&nbsp;&nbsp;&nbsp;&nbsp;&nbsp;&nbsp;&nbsp;&nbsp;&nbsp;&nbsp;&nbsp;&nbsp;&nbsp;&nbsp;&nbsp;&nbsp;&nbsp;&nbsp;&nbsp;&nbsp;&nbsp;&nbsp;&nbsp;&nbsp;&nbsp;&nbsp;&nbsp;&nbsp;&nbsp;&nbsp;&nbsp;&nbsp;&nbsp;&nbsp;&nbsp;&nbsp;&nbsp;&nbsp;&nbsp;&nbsp;&nbsp;&nbsp;&nbsp;&nbsp;&nbsp;&nbsp;&nbsp;&nbsp;&nbsp;&nbsp;&nbsp;&nbsp;&nbsp;&nbsp;&nbsp;&nbsp;&nbsp;&nbsp;&nbsp;&nbsp;&nbsp;&nbsp;&nbsp;&nbsp;&nbsp;&nbsp;&nbsp;&nbsp;&nbsp;&nbsp;&nbsp;&nbsp;&nbsp;&nbsp;&nbsp;&nbsp;&nbsp;&nbsp;&nbsp;&nbsp;&nbsp;&nbsp;&nbsp;&nbsp;&nbsp;&nbsp;&nbsp;&',\n",
       " 'nbsp;&nbsp;&nbsp;&nbsp;&nbsp;&nbsp;&nbsp;&nbsp;&nbsp;&nbsp;&nbsp;&nbsp;&nbsp;&nbsp;&nbsp;&nbsp;&nbsp;&nbsp;&nbsp;&nbsp;&nbsp;&nbsp;&nbsp;&nbsp;&nbsp;&nbsp;&nbsp;&nbsp;&nbsp;&nbsp;&nbsp;&nbsp;&nbsp;&nbsp;&nbsp;&nbsp;&nbsp;&nbsp;&nbsp;&nbsp;&nbsp;&nbsp;&nbsp;&nbsp;&nbsp;&nbsp;&nbsp;&nbsp;&nbsp;&nbsp;&nbsp;&nbsp;&nbsp;&nbsp;&nbsp;&nbsp;&nbsp;&nbsp;&nbsp;&nbsp;&nbsp;&nbsp;&nbsp;&nbsp;&nbsp;&nbsp;&nbsp;&nbsp;&nbsp;&nbsp;&nbsp;&nbsp;&nbsp;&nbsp;&nbsp;&nbsp;&nbsp;&nbsp;&nbsp;&nbsp;&nbsp;&nbsp;&nbsp;&nbsp;&nbsp;&nbsp;&nbsp;&nbsp;&nbsp;&nbsp;&nbsp;&nbsp;&nbsp;&nbsp;&nbsp;&nbsp;&nbsp;&nbsp;&nbsp;&nbsp;&nbsp;&nbsp;&nbsp;&nbsp;&nbsp;&nbsp;&nbsp;&nbsp;&nbsp;&nbsp;&nbsp;&nbsp;&nbsp;&nbsp;&nbsp;&nbsp;&nbsp;&nbsp;&nbsp;&nbsp;&nbsp;&nbsp;&nbsp;&nbsp;&nbsp;&nbsp;&nbsp;&nbsp;&nbsp;&nbsp;&nbsp;&nbsp;&nbsp;&nbsp;&nbsp;&nbsp;&nbsp;&nbsp;&nbsp;&nbsp;&nbsp;&nbsp;&nbsp;&nbsp;&nbsp;&nbsp;&nbsp;&nbsp;&nbsp;&nbsp;&nbsp;&nbsp;&nbsp;&nbsp;&nbsp;&nbsp;&nbsp;&nbsp;&nbsp;&nbsp;&nbsp;&nbsp;&nbsp;&nbsp;&nbsp;&nbsp;&nbsp;&nbsp;&nbsp;&nbsp;&nbsp;&nbsp;&nbsp;&nbsp;&nbsp;&nbsp;&nbsp;&nbsp;&nbsp;&nbsp;&nbsp;&nbsp;&nbsp;&nbsp;&nbsp;&nbsp;&nbsp;&nbsp;&nbsp;&nbsp;&nbsp;&nbsp;&nbsp;&nbsp;&nbsp;&nbsp;&nbsp;&nbsp;&nbsp;&nbsp;&nbsp;&nbsp;&nbsp;&nbsp;&nbsp;&nbsp;&nbsp;&nbsp;&nbsp;&nbsp;&nbsp;&nbsp;&nbsp;&nbsp;&nbsp;&nbsp;&nbsp;&nbsp;&nbsp;&nbsp;&nbsp;&nbsp;&nbsp;&nbsp;&nbsp;&nbsp;&nbsp;&nbsp;&nbsp;&nbsp;&nbsp;&nbsp;&nbsp;&nbsp;&nbsp;&nbsp;&nbsp;&nbsp;&nbsp;&nbsp;&nbsp;&nbsp;&nbsp;&nbsp;&nbsp;&nbsp;&nbsp;&nbsp;&nbsp;&nbsp;&nbsp;&nbsp;&nbsp;&nbsp;&nbsp;&nbsp;&nbsp;&nbsp;&nbsp;&nbsp;&nbsp;&nbsp;&nbsp;&nbsp;&nbsp;&nbsp;&nbsp',\n",
       " '---PAGE 1 END---\\n **SRINIVAS INSTITUTE OF TECHNOLOGY**\\n**MANGALURU-574143, KARNATAKA**\\n**(Accredited by NAAC)**',\n",
       " '**DEPARTMENT OF COMPUTER SCIENCE AND ENGINEERING**\\n\\n**CERTIFICATE**\\n\\nThis is to certify that **Mr. Jaideep** bearing USN **4SN19CS035** has completed __________ activity points under various headers as required by AICTE.\\n\\n**Prof. Harishma**  \\nMentor\\n\\n**Prof. Deepthi P Dsouza**  \\nCoordinator\\n\\n**Prof. Ravishankara K**  \\nHOD\\n\\n**Dr. Shrinivasa Mayya D**  \\nPrincipal\\n\\n**SRINIVAS GROUP**  \\n**SAMAGRA GNANA**  \\n**ESTD: 1988**\\n---PAGE 2 END---\\n # SRINIVAS INSTITUTE OF TECHNOLOGY\\n(Accredited by NAAC)  \\nValachil, Mangaluru-574143  \\n\\n## Department of Computer Science and Engineering\\n\\n### EVALUATION DETAILS\\n\\n**Name:** Jaideep  \\n**USN:** 4SN19CS035  \\n\\n| Activity header No. | Name of the activity                                             | No. Of hours completed | Earned Points |\\n|---------------------|-----------------------------------------------------------------|------------------------|---------------|\\n| 4                   | Promoting Tourism and Creating Awareness about Wildlife Conservation | 60                     |               |\\n| 14                  | Awareness on Diabetes mellitus                                  | 28                     |               |\\n| 14                  | Awareness of Covid-19                                           | 30                     |               |\\n| 5                   | Awareness on AR Powered Navigation                              | 33                     |               |\\n| 15                  | Swachh Bharath Abhiyaan                                         | 27                     |               |\\n| 1                   | Providing Quality Education for Primary school Students         | 24                     |               |\\n|                     | **TOTAL**                                                       | **202**                |               |\\n\\n**Signature of the mentor with name:**  \\n_________________________  \\n**Prof. Harishma KV**\\n---PAGE 3 END---\\n # SRINIVAS INSTITUTE OF TECHNOLOGY\\n(Accredited by NAAC)  \\nValachil, Mangaluru-574143  \\n\\n## Department of Computer Science and Engineering  \\n### A report on  \\n## AICTE ACTIVITY POINT PROGRAMME  \\n\\n| Name   | USN        |\\n|--------|------------|\\n| Jaideep | 4SN19CS035 |\\n\\n### Activity Head  \\nSpreading Public Awareness under Rural Outreach Program  \\n\\n### Activity Name  \\nPromoting Tourism and Creating Awareness about Wildlife Conservation  \\n\\n### Duration  \\n\\n| Date(s)    | No. of Hours |\\n|------------|--------------|\\n| 03/02/2020 | 7            |\\n| 04/02/2020 | 7            |\\n| 05/02/2020 | 6            |\\n| 06/02/2020 | 7            |\\n| 07/02/2020 | 7            |\\n| 10/02/2020 | 6            |\\n| 11/02/2020 | 7            |\\n| 12/02/2020 | 6            |\\n| 13/02/2020 | 7            |\\n| 03/02/2020 | 7            |\\n| **Total hours** | **60**   |\\n\\n| Mentor’s Name       | Mentor’s Signature with date |\\n|---------------------|------------------------------|\\n| Prof. Harishma K V  |                              |\\n\\n2019-2020\\n---PAGE 4 END---\\n # AICTE Activity Point Programme – Report\\n\\n## 1. Introduction\\n\\nThe following project is taken by me to make the people who live in rural areas to guide them about the need of conserving the wildlife for the sake of our next generation. By making them to know about the importance of wildlife, we may protect our animals to the small extinct. If they go on killing these animals, they’ll get extinct and the future generations cannot see these animals and we have to show them the pictures of these animals only. So, in order to educate people about these magnificent animals I have taken up this activity about ‘Wildlife Conservation’.\\n\\nWe know India is the large habitant of wildlife, but now number of animals are vanished. The main reason behind this problem is we the human. Because of our greediness we are goes on killing animals. In future may be the word “animals” couldn’t be seen anywhere. So, in order to have knowledge of animals we the students of Srinivas Institute of Technology, Valachill had a visit to Pilikula.\\n\\n## 2. Objective of the activity\\n\\n- The objective of the following activity is to create awareness amongst the people who are less educated about the wild animals which are harming their crops.\\n- And to provide precautionary or preventive measures against the animals which harm their crops.\\n- And also tell them the purpose why should we conserve these animals and protect them.\\n- Maintaining the number of animals in balance with their habitats.\\n- Keeping track of current habitat conditions.\\n- Preventing total extinction of species.\\n- The main objective of this activity is to create awareness among the people or to make them realize the extinction of wildlife without their habitat hence they are moving towards urban and farm fields to fulfil their needs.\\n\\n---\\n\\n*Department of Computer Science and Engineering, SIT, Mangaluru*\\n\\n*Page 2 | 4*\\n---PAGE 5 END---\\n # AICTE Activity Point Programme – Report\\n\\n## 3. Methodology',\n",
       " '- Identification of the animals which cause the problem.\\n- Next, we should identify why the animal is attacking or harming the crops.\\n- Next contact the respective RFO and describe him/her about the problems that they are facing with these wild animals’ entertainment.\\n- Next ask the RFO for solution which do not involve killing or do not involve any harm to the animal.\\n- Next follow the instructions given by the RFO or the authority which he/she direct you to ask help regarding your problems.\\n\\n## 4. Details\\n\\nFirst, we visited national biological park and we got information about wild animals. We also got information about why there is increased rate of wild animals. We also understood the need of biological parks. Ms. Suchitra gave us information about wildlife conservation and need of biological parks in society.\\n\\nThen we prepared questionnaire on the basics of animal activities and their effect on farm land. Then I visited village in Udupi named Saligrama to collect the information regarding this and also tried to create awareness not to harm the animals with still saving their crops. I discussed a lot of things with she gave much knowledge about the crop and also the idea which he uses to protect his field from wild animals.\\n\\nNext I visited a house near Kota of Udupi the owners name was Parvathi, she was practicing agriculture for 10 years, her farmland is located on low land the main crops she grew was peanuts and paddy I asked her about the animals which harmed his crops, to which she replied ducks and cows were harming her crops and I asked the precautionary measures she took to protect her crops to which she replied that she used to tie a cloth around the crops but I suggested her to put up electric fence to protect the crops.\\n\\n---\\n\\n*Department of Computer Science and Engineering, SIT, Mangaluru*  \\n*Page 3 | 4*\\n---PAGE 6 END---\\n **AICTE Activity Point Programme – Report**\\n\\n---\\n\\n### 5. Outcomes\\n\\n- Will understand the factors affecting the need to find sustainable practices for production of food, feed, and fiber and how to implement them.\\n- Better understanding about the behaviors of the animal and how to control it.\\n- Preventing the animal from harming the crop without killing it or harming it.\\n- People understanding the need to conserve the animals.\\n- Enough knowledge about wildlife conservation.\\n- Got the knowledge about science and its application.\\n- Got knowledge about old tradition in “Guttumnae”.\\n\\n---\\n\\n### 6. Annexure\\n\\n- **Biological park, pilikula**\\n\\n  ![Biological Park](https://example.com/biological_park.jpg)\\n  ![Pilikula Biological Park](https://example.com/pilikula_biological_park.jpg)\\n  ![Animals](https://example.com/animals.jpg)\\n  ![Entrance](https://example.com/entrance.jpg)\\n\\n- **Field visit**\\n\\n  ![Field Visit 1](https://example.com/field_visit_1.jpg)\\n  ![Field Visit 2](https://example.com/field_visit_2.jpg)\\n  ![Field Visit 3](https://example.com/field_visit_3.jpg)\\n  ![Field Visit 4](https://example.com/field_visit_4.jpg)\\n\\n---\\n\\n**Department of Computer Science and Engineering, SIT, Mangaluru**\\n\\n**Page 4 / 4**\\n---PAGE 7 END---\\n # SRINIVAS INSTITUTE OF TECHNOLOGY\\n(Accredited by NAAC)  \\nValachil, Mangaluru-574143  \\n\\n## Department of Computer Science and Engineering\\n\\n### A report on\\n\\n## AICTE ACTIVITY POINT PROGRAMME\\n\\n| Name   | Jaideep   | USN       | 4SN19CS035 |\\n|--------|-----------|-----------|------------|\\n\\n### Activity Head\\n\\nPromotion of appropriate technologies. Prepare and improve a plan to improve the health parameters of villagers. Implement develop technology solutions which will improve quality of life.\\n\\n### Activity Name\\n\\nAwareness on Diabetes mellitus\\n\\n### Duration\\n\\n| Date(s)     | No. of Hours |\\n|-------------|--------------|\\n| 04/11/2020  | 5            |\\n| 05/11/2020  | 5            |\\n| 06/11/2020  | 6            |\\n| 07/11/2020  | 7            |\\n| 13/11/2020  | 5            |\\n| **Total Hours** | **28**   |\\n\\n| Mentor’s Name       | Mentor’s Signature with date |\\n|---------------------|------------------------------|\\n| Prof. Harishma K V  |                              |\\n\\n2020-2021\\n---PAGE 8 END---\\n **AICTE Activity Point Programme – Report**\\n\\n---\\n\\n### 1. Introduction\\n\\nDiabetes mellitus is a group of metabolic diseases characterized by hyperglycemia resulting from defects in insulin secretion, insulin action, or both. The chronic hyperglycemia of diabetes is associated with long-term damage, dysfunction, and failure of various organs, especially the eyes, kidneys, nerves, heart, and blood vessels. Several pathogenic processes are involved in the development of diabetes. These range from autoimmune destruction of the β-cells of the pancreas with consequent insulin deficiency to abnormalities that result in resistance to insulin action.\\n\\nThe basis of the abnormalities in carbohydrate, fat, and protein metabolism in diabetes is deficient action of insulin on target tissues. Deficient insulin action results from inadequate insulin secretion and/or diminished tissue responses to insulin at one or more points in the complex pathways of hormone action. Impairment of insulin secretion and defects in insulin action frequently coexist in the same patient, and it is often unclear which abnormality, if either alone, is the primary cause of the hyperglycaemia.\\n\\nSymptoms of marked hyperglycaemia include polyuria, polydipsia, weight loss, sometimes with polyphagia, and blurred vision. Impairment of growth and susceptibility to certain infections may also accompany chronic hyperglycaemia. Acute, life-threatening consequences of uncontrolled diabetes are hyperglycaemia with ketoacidosis or the nonketotic hyperosmolar syndrome.\\n\\nThere are two types of Diabetes, type-1 and -2 diabetes. Both these conditions are associated with inflammation and type-1 diabetes also with an autoimmune pathology. Indeed, animal and human studies support the notion that adequate Vitamin-D supplementation may decrease the incidence of type-1 and possibly also of type-2 diabetes mellitus and may improve the metabolic control in the diabetes state. Doctors treat diabetes with a few different medications. Some of these drugs are taken by mouth, while others are available as injections.\\n\\n---\\n\\n**Department of Computer Science and Engineering, SIT, Mangaluru**  \\n**Page 2/4**\\n---PAGE 9 END---\\n # AICTE Activity Point Programme – Report\\n\\n## 2. Objective of the activity\\n\\n- To create a video on spreading awareness about health.\\n- To create a video that educates people about Diabetes mellitus.\\n- What kind of lifestyle can lead to diabetes?\\n- To create a video that prevents and treatment of the complications of diabetes mellitus.\\n\\n## 3. Methodology\\n\\n- Spreading awareness about lifestyle disease called Diabetes (type 2) by creating a video that educates people about Diabetes mellitus.\\n- Collected information about Diabetes mellitus.\\n- Created a video that Type 2 diabetes is a lifestyle disease. By adopting a healthy lifestyle, the risks and symptoms can be reduced.\\n- Explained about prevention and treatment of the complications of diabetes mellitus.\\n- And this video is posted on social media platforms like YouTube.\\n\\n## 4. Details\\n\\nDiabetes mellitus, commonly known as diabetes, is a metabolic disease that causes high blood sugar. The hormone insulin moves sugar from the blood into your cells to be stored or used for energy. With diabetes, your body either doesn’t make enough insulin or can’t effectively use the insulin it does make. Untreated high blood sugar from diabetes can damage your nerves, eyes, kidneys, and other organs.\\n\\n**There are a few different types of diabetes:**\\n\\n**Type 1** diabetes is an autoimmune disease. The immune system attacks and destroys cells in the pancreas, where insulin is made. It’s unclear what causes this attack. About 10 percent of people with diabetes have this type.\\n\\n**Type 2** diabetes occurs when your body becomes resistant to insulin, and sugar builds up in your blood.\\n\\nEach type of diabetes has unique symptoms, causes, and treatments.\\n\\n**Symptoms of diabetes**',\n",
       " 'Diabetes symptoms are caused by rising blood sugar.\\n\\n---\\n\\n*Department of Computer Science and Engineering, SIT, Mangaluru*  \\n*Page 3 | 4*\\n---PAGE 10 END---\\n # AICTE Activity Point Programme – Report\\n\\n## General symptoms\\nThe general symptoms of diabetes include:\\n- Increased hunger\\n- Increased thirst\\n- Weight loss\\n- Frequent urination\\n- Blurry vision\\n- Extreme fatigue\\n- Sores that don’t heal\\n\\n## 5. Outcomes\\n- To get to know about Diabetes mellitus and its types.\\n- Awareness about lifestyle disease called Diabetes (type 2)\\n- Knowledge and practice on prevention of diabetes mellitus.\\n- Prevention and treatment of the complications of diabetes mellitus.\\n- Share the knowledge and influence others to get vaccinated.\\n- Making people aware and better understand about the Diabetes.\\n- Telling the steps to be followed in order to prevent the spread of the virus.\\n\\n## 6. Annexure\\n**Link:** [https://youtu.be/pChZP-qgB_A](https://youtu.be/pChZP-qgB_A)\\n\\n![Diabetes](https://i.imgur.com/1.jpg)\\n![Types of Diabetes](https://i.imgur.com/2.jpg)\\n![Type 1 Diabetes](https://i.imgur.com/3.jpg)\\n\\n---\\n\\n**Department of Computer Science and Engineering, SIT, Mangaluru**  \\n**Page 4/4**\\n---PAGE 11 END---\\n # SRINIVAS INSTITUTE OF TECHNOLOGY\\n(Accredited by NAAC)  \\nValachil, Mangaluru-574143  \\n\\n## Department of Computer Science and Engineering\\n\\n---\\n\\n### A report on  \\n## AICTE ACTIVITY POINT PROGRAMME\\n\\n---\\n\\n**Name**: JAIDEEP  \\n**USN**: 4SN19CS035  \\n\\n---\\n\\n### Activity Head\\nTo Skill Rural Population\\n\\n### Activity Name\\nAwareness Of Covid-19\\n\\n### Duration\\n\\n| Date(s)     | No. of Hours |\\n|-------------|--------------|\\n| 17/06/2021  | 10           |\\n| 18/06/2021  | 10           |\\n| 19/06/2021  | 10           |\\n| **Total Hours** | **30** |\\n\\n---\\n\\n**Mentor’s Name**: Prof. Harishma KV  \\n**Mentor’s Signature with date**:  \\n\\n---\\n\\n2020-2021\\n---PAGE 12 END---\\n # AICTE Activity Point Programme – Report\\n\\n## 1. Introduction\\n\\nA novel coronavirus outbreak was first documented in Wuhan, Hubei province, China in December 2019. Nearly 216 countries of the whole world are struggling for their civilization and livelihood against the coronavirus pandemic. On January 11, 2020 China declared first death of their 61 years old citizen due to covid 19, who was exposed to the seafood market, but now death reached exponentially to 357,736 on 29th May 2020. It has been confirmed on six continents and in more than 100 countries.\\n\\nAs the whole world\\'s health system funnel resources into learning about, treating, and preventing infections in humans, new information is released daily. In this two-part article series, we will first provide some history on coronavirus to put this disease outbreak in perspective, and discuss global health security and planning for pandemic response. Secondly, we will offer guidance from the best trusted sources for prevention and planning in the workplace and at home.\\n\\nAn international panel of experts undertook a comprehensive assessment and benchmarking of health security and response capabilities across 195 countries. The purpose was to address risks from infectious disease outbreak that could lead to international epidemics and pandemic and measure response capabilities for each nation.\\n\\n## 2. Objective of the activity\\n\\n- Wash your hands regularly with soap and water, or clean them with alcohol.\\n- Maintain at least 1 metre distance between you and people coughing or sneezing.\\n- Avoid touching your face.\\n- Cover your mouth and nose when coughing or sneezing.\\n- Stay home if you feel unwell.\\n- Refrain from smoking and other activities that weaken the lungs.\\n\\n---\\n\\n*Department of Computer Science and Engineering, SIT, Mangaluru*  \\n*Page 1 | 3*\\n---PAGE 13 END---\\n **AICTE Activity Point Programme – Report**\\n\\n- Practice physical distancing by avoiding unnecessary travel and staying away from large groups of people.\\n- Always wear masks.\\n\\n### 3. Methodology\\n\\n- I analysed about the Covid-19 Vaccines importance and how it works.\\n- I gathered information about the Covid-19 Vaccines.\\n- I prepared an animated video about the importance of Covid-19 Vaccines.\\n- I shared my ideas and clear information through video on social media.\\n\\n### 4. Details\\n\\n- At first, I visited a house where there were 6 members staying together. I asked them to tell what they know about the virus. They told that \"corona virus is an infectious disease but it won’t hurt other\". I disagreed to their answer and gave some extra information about the corona virus and also the necessity of wearing mask.\\n- Then I planned to visit another house and was walking through that way. I saw an old lady walking in a road without wearing a mask. I just suggested her to wear mask and explained about the Pandemic situation we are facing.\\n- Next I visited a family of three members and asked them how serious are the people in their locality about coronavirus. They said that day by day since the cases are increasing people are taking it seriously. But still some of them ignore it and go out without wearing mask. I just told them to suggest people to wear mask whenever they see people without mask.\\n- Then I visited Chandrappa\\'s family who were less bothered about the virus. I showed them some of the videos where people were struggling to breathe and explained them about the death rates and increasing cases in India and gave some information about the symptoms of Covid-19.\\n- Then I planned to visit another house and was walking through that way. I saw an old lady walking in a road without wearing a mask. I just suggested her to wear mask and explained about the Pandemic situation we are facing.\\n\\n---\\n\\n*Department of Computer Science and Engineering, SIT, Mangaluru*  \\n*Page 2 | 3*\\n---PAGE 14 END---\\n **AICTE Activity Point Programme – Report**\\n\\n### 5. Outcomes\\n\\n- Making people aware and better understand about this coronavirus. Educated the people about this virus.\\n- Telling the steps to be followed in order to prevent the spread of the virus.\\n- How to make people go along with the coronavirus and its prevention and not stop their daily work, giving them hope till vaccines reach all such rural areas.\\n- And thought them about the safety measures.\\n\\n### 6. Annexure\\n\\n**Link**: [https://youtu.be/0s7-ilB5MZ4](https://youtu.be/0s7-ilB5MZ4)\\n\\n![YouTube Video Screenshot](https://i.imgur.com/0s7-ilB5MZ4.png)\\n\\n**Video Title**: What is Coronavirus (COVID-19)?\\n\\n**Description on Video**:\\n- Coronavirus is a contagious viral strain that can be passed from one person to another, via:\\n  - Direct contact (within 2m/6ft)\\n  - Respiratory droplets - sneezing, coughing, talking\\n  - Touching a surface infected with the virus\\n\\n---\\n\\n**Department of Computer Science and Engineering, SIT, Mangaluru**  \\n**Page 3 | 3**\\n---PAGE 15 END---\\n # SRINIVAS INSTITUTE OF TECHNOLOGY\\n(Accredited by NAAC)  \\nValachil, Mangaluru-574143  \\n\\n## Department of Computer Science and Engineering\\n\\n### A report on\\n\\n# AICTE ACTIVITY POINT PROGRAMME\\n\\n| Name   | Jaideep   | USN       | 4SN19CS035 |\\n|--------|-----------|-----------|------------|\\n\\n### Activity Head\\nPromotion of Appropriated Technology\\n\\n### Activity Name\\nAwareness on AR Powered Navigation\\n\\n### Duration',\n",
       " '| Date(s)     | No. of Hours |\\n|-------------|--------------|\\n| 06-11-2022  | 5            |\\n| 08-11-2022  | 6            |\\n| 09-11-2022  | 7            |\\n| 10-11-2022  | 7            |\\n| 11-11-2022  | 8            |\\n| **Total hours** | **33**       |\\n\\n| Mentor’s Name       | Prof. Harishma K V | Mentor’s Signature with date |\\n|---------------------|--------------------|------------------------------|\\n\\n2022-2023\\n---PAGE 16 END---\\n **AICTE Activity Point Programme – Report**\\n\\n---\\n\\n### 1. Introduction\\n\\nIn recent years, mobile phones and handheld devices have become powerful enough to be able to provide augmented reality (AR) experiences. Systems can be used to show virtual representation of points of interest (POI) superimposed over the real world, and applications. There are many potential applications, such as for tourist guides, as a restaurant finder, providing directions to the subway, or even artistic installations. In all of these cases the mobile AR system can guide a user to a particular destination. In a recent study, Teevan et al found that the most common reason for performing a local search on a mobile device was to get directions to the target location (52%). This was followed by wanting to go somewhere (43%), or choosing a specific place to go (21%). Although current AR browsers can show users the location of POI, users generally want to find their way to this POI.\\n\\nHowever, there has been little research on how effective this information is for supporting real world navigation. With a range of currently available AR browsers it is interesting to explore how the information provided by these apps (i.e. location information of POIs in the user’s surroundings) can be used for outdoor navigation compared to other methods such as digital maps. One fundamental difference between AR browsers and maps for navigation is that maps provide a top down exocentric view of the environment, while AR adds virtual location information to an egocentric view of the real world. Our aim was not to attempt to improve upon these interfaces or provide new or additional functionalities, but to explore the affordances and limitations of currently available systems. This work is one of the first comparative outdoor navigation studies using a handheld AR system and so should provide valuable information for designers and researchers who are developing similar systems.\\n\\n---\\n\\n**Department of Computer Science and Engineering, SIT, Mangaluru**\\n\\n**Page 2 | 11**\\n---PAGE 17 END---\\n **AICTE Activity Point Programme – Report**\\n\\n### 2. Objective of the activity\\n\\nThis article addressed goes through aspects of augmented reality, navigation and unites them to develop a system which navigates campus. Through the experiments, the system can help users to visit different locations in the campus, gather more precise information about the hospital. This helps understanding the architecture better. This system can be further used to navigate similar applications, such as big factories, IT centers and large malls.\\n\\nAlthough we could not find performance benefits for the AR+Map interface, the participants clearly preferred this interface condition because it provides them with more choices. Offering interfaces that do not lock users into one type of interaction or only provide one type of information but let the users choose can increase the user experience. Our findings suggest that there is no best navigation aid suitable for all kinds of users or environments. Each interface had advantages and disadvantages in certain environments. Current AR interfaces certainly seem to work better in cases where there is little obstruction between user and target. They provide little depth cues and information whether or not there is a direct route to the point of interest. While detailed cartographic maps could provide such route information, this data is not readily available for many locations.\\n\\nHere this AR navigation helps them.\\n\\n- **Campus** - the exact position and detail location of every block can be obtained by using the augmented reality technology.\\n- **Hospital and other infrastructure** - indoor navigation.\\n- **E-commerce and Retail** - augmented reality app development is about to reshape on- and off-line shopping.\\n- **Interior Design, Landscaping & Urban Planning apps** - like IKEA Place helps to measure objects, walls etc.\\n- **Games, Leisure, and Entertainment** - the viral Pokémon GO is still the first AR app that comes to most people’s mind when they think of AR.\\n\\n---\\n\\n**Department of Computer Science and Engineering, SIT, Mangaluru**\\n\\n**Page 3 | 11**\\n---PAGE 18 END---\\n # AICTE Activity Point Programme – Report\\n\\n## 3. Methodology\\n\\nThe methodology of planting saplings on Earth Day can vary depending on the context and location of the planting. However, some general steps that can be followed for planting saplings on Earth Day are:\\n\\n- **Planning and preparation**: Before planting saplings, it is essential to identify the location for planting and ensure that the soil is suitable for the type of saplings that will be planted. It is also important to obtain the necessary permits and permissions for planting in the chosen location.\\n- **Selecting saplings**: Choose saplings that are native to the region and suitable for the planting location. Consider the climate, soil type, and available sunlight when selecting saplings.\\n- **Digging holes**: Dig holes in the soil that are deep enough to accommodate the roots of the saplings. The depth and width of the hole should be at least twice the size of the root ball.\\n- **Planting the saplings**: Place the sapling in the hole and backfill with soil, making sure that the sapling is straight and the roots are covered.\\n- **Watering and Mulching**: Water the saplings thoroughly after planting, and add mulch around the base of the sapling to help retain moisture and control weeds.\\n- **Care and maintenance**: Regular care and maintenance are essential to ensure the success of the saplings. Water the saplings regularly, especially during dry spells. Prune and shape the saplings as needed and protect them from pests and diseases.\\n- **Monitoring and evaluation**: Monitor the saplings regularly to ensure their health and growth. Evaluate the success of the planting after a few months or years to assess the impact of the planting on the environment.\\n\\nIn conclusion, the methodology of planting saplings on Earth Day involves planning and preparation, selecting suitable saplings, digging holes, planting the saplings, watering and mulching, care and maintenance, and monitoring and evaluation. Following these steps can ensure the success of the planting and contribute to environmental conservation and sustainable living.\\n\\n---\\n\\n**Department of Computer Science and Engineering, SIT, Mangaluru**\\n\\n**Page 4 | 11**\\n---PAGE 19 END---\\n **AICTE Activity Point Programme – Report**\\n\\n---\\n\\n**4. Details**\\n\\nThe handled devices that most of the user have are Android or IOS devices. Here the application provides data to all the user. In order to do so here we maintain a single centralized cloud storage. This cloud storage store location details in terms of latitude and longitude with label that represent the Event/Location name.\\n\\n![System Architecture working flow](https://i.imgur.com/3J1y1.png)\\n\\n**Fig.3.1 System Architecture working flow**\\n\\n---\\n\\n**Department of Computer Science and Engineering, SIT, Mangaluru**  \\n**Page 5 | 11**\\n---PAGE 20 END---\\n **AICTE Activity Point Programme – Report**\\n\\n![Diagram of Web and Mobile application working](https://i.imgur.com/6J1J1.png)\\n\\n*Fig. 3.2 Web and Mobile application working*\\n\\nThe above working diagram shows both Admin and User application working. Admin application is web application it enables admin to add new locations other than already saved location in maps like Google Maps. ARNav Web application on landing it shows the two dimensional view of map that is powered by Mapbox using this admin can add new location by giving label to new location coordinates. Then admin application has the capability to list all the saved location details in a table format.\\n\\nThe User application is a mobile application. On visiting the user see the default screen with list of destination options from with the user can select the desired location that the admin has added. These locations can be Event or a place location where the admin want user to visit. User can remove destination details on the middle of screen by using hide and show button.\\n\\nThis application also can update the location on real-time basis. In order to get latest location details user has to click on the fetch data options. In this way new data is populated into the drop-down. In case user see misguided path. There is option to restart the navigation by clicking the Refresh Route option.\\n\\n---\\n\\n**Department of Computer Science and Engineering, SIT, Mangaluru**',\n",
       " '*Page 6 | 11*\\n---PAGE 21 END---\\n **AICTE Activity Point Programme – Report**\\n\\n---\\n\\n![Flow Diagram](image)\\n\\n**Fig. 3.3 Location updating request flow diagram.**\\n\\nThe above figure shows how User application makes a API call and updates User Interface. Upon clicking the fetch data user application makes a API call to central cloud storage system. If the request is not success, then it call API gain. But if it is success then it parses the data from response. This data is then populated into the dropdown list. At last the application re-render the dropdown UI element to reflect the changes.\\n\\n---\\n\\n**Department of Computer Science and Engineering, SIT, Mangaluru**  \\n**Page 7 | 11**\\n---PAGE 22 END---\\n **AICTE Activity Point Programme – Report**\\n\\n---\\n\\n![AR Navigation Location adder](image1.png)\\n\\n**Fig. 3.4 Web list view of all saved location.**\\n\\nThe system consists of Admin web application. Using this web application admin can add new location. It provides a 2 dimensional map view. This map is powered by Mapbox. Admin can add a custom title to new location that can be any event or building name.\\n\\n| #  | Label                | Latitude           | Longitude           |\\n|----|----------------------|--------------------|---------------------|\\n| 1  | Admin AED Tools      | 12.876857076999999 | 74.88264918399999   |\\n| 2  | Canteen              | 12.876857076999999 | 74.88264918399999   |\\n| 3  | Expert PU College    | 12.876857076999999 | 74.88264918399999   |\\n| 4  | Juice Center         | 12.876857076999999 | 74.88264918399999   |\\n| 5  | Kottara Tiff         | 12.876857076999999 | 74.88264918399999   |\\n| 6  | SIT Automobile Lab   | 12.876857076999999 | 74.88264918399999   |\\n| 7  | SIT Boys Hostel      | 12.876857076999999 | 74.88264918399999   |\\n| 8  | SIT College Ground   | 12.876857076999999 | 74.88264918399999   |\\n| 9  | SIT Electrical Dept  | 12.876857076999999 | 74.88264918399999   |\\n| 10 | SIT Main Gate        | 12.876857076999999 | 74.88264918399999   |\\n| 11 | SIT Pharmacy Building| 12.876857076999999 | 74.88264918399999   |\\n| 12 | SIT Library Block    | 12.876857076999999 | 74.88264918399999   |\\n| 13 | SIT Nursing Building | 12.876857076999999 | 74.88264918399999   |\\n\\n---\\n\\n![AR Navigation Location adder](image2.png)\\n\\n**Fig. 3.5 Admin Web application view**\\n\\n---\\n\\n**Department of Computer Science and Engineering, SIT, Mangaluru**\\n\\n**Page 8 | 11**\\n---PAGE 23 END---\\n **AICTE Activity Point Programme – Report**\\n\\nAfter submitting the event/location details from web view the data is sent to could using API. Here we used Google’s firebase REALTIME DATABASE. This firebase could storage helps to save and synch data across devices in real-time.\\n\\n![Unity IDE Screenshot](image.png)\\n\\n*Fig 3.6 Application design in Unity IDE*\\n\\nUnity IDE provides various options to add UI elements to screen. Unity is a game engine and integrated development environment. While Unity is primarily aimed at game development, it is not limited to games only. In fact, there is no reason you can’t use Unity to build a host of other tools, utilities, business apps, and the like. The first use case is that Unity makes Android app development quicker and easier. Unity is a cross-platform tool, meaning that you can easily create apps for Android, iOS, and Windows with very few alterations needed.\\n\\nThe main tool used to create this project using Unity is AR + GPS location package. The Unity AR+GPS Location asset brings the ability to position 3D objects in real-world geographical locations via their GPS coordinates using Unity and Augmented-Reality. It supports both Unity\\'s AR Foundation and Vuforia. It works by mixing both GPS data and the AR tracking done by AR Foundation or Vuforia.\\n\\n---\\n\\n*Department of Computer Science and Engineering, SIT, Mangaluru*\\n\\n*P a g e 9 | 11*\\n---PAGE 24 END---\\n ### AICTE Activity Point Programme – Report\\n\\n---\\n\\n#### 5. Outcomes\\n\\nMobile application provides user interface with list of location that admin has added via web application. These list of destinations can be accessed by dropdown button. User can select only one destination from those options. After selecting a location from dropdown application has Start button on click the navigation starts. Admin can add new locations at any time. So using Fetch Location button user can get latest location details from could. placed with respect to the user’s devices.\\n\\n**Main Features**\\n- Place 3D Objects in geographical positions defined by their latitude, longitude and altitude.\\n- AR Hotspots that are activated when the user is near a given location.\\n- Place 3D Text markers on real-world points of interest (example using OpenStreetmaps is included.)\\n- Smooth movements on device location and heading updates.\\n- Move objects or place them along paths (Catmull-rom splines) on the map.\\n- Augmented reality floor shadows.\\n\\n**Limitations**\\n- Altitude information is usually very imprecise so, currently, it\\'s best to use heights relative to the device position or relative to detected ground planes.\\n- Landscape mode does not work well on may Android devices, due to a problem with tilt-compensation on the magnetic sensor data.\\n- There are limits due to the GPS precision. So, on good conditions precision can range from 2 to 5 meters, and on bad conditions from 10 to 20 meters.\\n- Does not work well on indoors.\\n\\n---\\n\\n**Department of Computer Science and Engineering, SIT, Mangaluru**\\n\\n**P a g e 10 | 11**\\n---PAGE 25 END---\\n **AICTE Activity Point Programme – Report**\\n\\n**6. Annexure**\\n\\n*Image Descriptions:*\\n\\n1. The first image on the left shows an AR Navigation interface with the text \"Turn right.\" The destination is \"SIT Boys Hostel,\" which is 11 meters away. There are options to \"Show/Hide Option,\" \"Report a Problem,\" and \"Pinch Data.\"\\n\\n2. The second image in the middle shows a classroom or lab setting at Srinivas Institute of Technology (SIT). There are multiple computer stations, and a person is standing in front of a projector screen.\\n\\n3. The third image at the bottom shows another view of the same or similar classroom or lab setting at Srinivas Institute of Technology (SIT). Students are seated at computer stations, and a presentation is being displayed on the projector screen.\\n\\n*Footer:*\\nDepartment of Computer Science and Engineering, SIT, Mangaluru\\n\\n*Page Number:*\\nPage 11/11\\n---PAGE 26 END---\\n **SRINIVAS INSTITUTE OF TECHNOLOGY**\\n(Accredited by NAAC)\\nValachil, Mangaluru-574143\\n\\n**Department of Computer Science and Engineering**\\n\\n---\\n\\n**A report on**\\n\\n**AICTE ACTIVITY POINT PROGRAMME**\\n\\n---\\n\\n| Name    | Jaideep    | USN       | 4SN19CS035 |\\n|---------|------------|-----------|------------|\\n\\n---\\n\\n**Activity Head**\\n\\nContribution to any national level Initiative of government of India. For e.g. digital India/ Skill India/ Swachh Bharat Internship etc.\\n\\n**Activity Name**\\n\\nSwachh Bharat Abhiyan\\n\\n---\\n\\n**Duration**',\n",
       " '| Date(s)     | No. of Hours |\\n|-------------|--------------|\\n| 06/02/2023  | 7            |\\n| 07/02/2023  | 7            |\\n| 08/02/2023  | 6            |\\n| 09/02/2023  | 7            |\\n| **Total hours** | **27**         |\\n\\n---\\n\\n| Mentor’s Name       | Prof. Harishma K V | Mentor’s Signature with date |\\n|---------------------|--------------------|------------------------------|\\n\\n---\\n\\n**2020-2021**\\n---PAGE 27 END---\\n # AICTE Activity Point Programme – Report\\n\\n## 1. Introduction\\n\\nThe campaign was officially launched on 2 October 2014 at Rajghat, New Delhi, which was the dream of Mahatma Gandhi, which he in his lifetime demonstrated, propagated, and insisted for individuals and community cleanliness. Following his footsteps, the Government of India, led by Prime Minister Narendra Modi launched this mission with a vision of achieving \"Clean India.\" It is India\\'s largest cleanliness drive to date with three million government employees and students from all parts of India participating in 4,043 cities, towns, and rural communities. The mission aims to make India an open defecation free country in five years. Under the mission, one lakh thirty-four thousand crore rupees will be spent for construction of about 11 crore 11 lakh toilets in the country.\\n\\nThe Swachh Bharat Mission programme, under the Ministry of Drinking Water and Sanitation, which is a flagship programme of the Government of India. The tagline of this campaign is \"Ek kadam swachhta ki ore\" which translates to \"A step towards cleanliness\". The scope of the programme was expanded in 1999 and Total Sanitation Campaign (TSC) was launched. In 2012, the government revamped TSC to Nirmal Bharat Abhiyan (NBA), which continued till late 2014 before being renamed Swachh Bharat Abhiyan by NDA. This initiative aims to clean India and make it free of open defecation. I have been contributing to this initiative by disseminating information on sanitation, waste management, and hygiene.\\n\\nThe contribution of this report is to these national-level initiatives to provide information and guidance on Swachh Bharat Mission, enabling decision-making, and promoting awareness among people. Through my support, I hope to contribute to the development of a better India.\\n\\n## 2. Objective of the activity\\n\\n- **Clean India:** The primary objective of the initiative is to create a clean and hygienic India by ensuring the proper disposal of waste and promoting cleanliness.\\n- **Open defecation-free India:** The initiative aims to eliminate open defecation in India and ensure that every household has access to a toilet.\\n- **Improved sanitation:** The initiative aims to improve sanitation facilities in urban and rural areas by promoting the construction of toilets, drainage systems, and waste management facilities.\\n\\n---\\n\\n*Department of Computer Science and Engineering, SIT, Mangaluru*\\n\\n*Page 2 | 6*\\n---PAGE 28 END---\\n **AICTE Activity Point Programme – Report**\\n\\n- **Behavioral change:** The initiative aims to bring about a change in the behavior of citizens towards cleanliness and hygiene.\\n- **Awareness:** The initiative aims to create awareness among people about the benefits of cleanliness and hygiene.\\n- **Health and hygiene:** The initiative aims to improve the health and hygiene of people by promoting the use of toilets, safe drinking water, and proper waste disposal.\\n\\n### 3. Methodology\\n\\n- The first step taken towards this drive was to promote Green India, Clean India Mission launched by the Govt.\\n- I along with my friends took initiative to approach the concerned people for the participation.\\n- Every weekend, I volunteered the drive.\\n- The plastics collected were disposed of safely by the students.\\n- Also, the Conferences on waste management system were arranged during some weekends. The initiative promotes the proper disposal of waste and the creation of waste management facilities in urban and rural areas.\\n\\n### 4. Details\\n\\nSwachh Bharat Mission fundamentally points in achieving an improvement in the personal satisfaction in the provincial regions, by advancing tidiness and zeroing in on logical strong and fluid waste administration frameworks for by and large neatness in the country regions. Consistently and in some cases even on different days, I chipped in Swachh Bharat drive under Ramakrishna Mission at various areas and cleaned the particular regions utilizing different apparatuses and gloves. I along with many volunteers cleaned areas like Adyar, Srinivas Institute of Technology, Ladies hostel surroundings. As cleanliness is next to Godliness this small step was taken by me to keep our surroundings clean. We started our cleaning at sharp 9AM and ended up around 5.30PM in the evening. In the middle we had a break enjoyed having lunch with friends and a good day.\\n\\n---\\n\\n**Department of Computer Science and Engineering, SIT, Mangaluru**  \\n**Page 3 | 6**\\n---PAGE 29 END---\\n **AICTE Activity Point Programme – Report**\\n\\n---\\n\\n![Image of people working outdoors]\\n\\n---\\n\\n### 5. Outcomes\\n\\nThough many challenges remain, governments seeking to achieve the sustainable development goal of universal access to safe sanitation can emulate the success of India’s Swachh Bharat Mission. This is an open access article distributed in accordance with the Creative Commons Attribution Non-Commercial license, which permits others to distribute, remix, adapt, build upon this work non-commercially, and license their derivative works on different terms, provided the original work is properly cited, appropriate credit is given, any changes made indicated, and the use is non-commercial.\\n\\n- Cleanliness helps in clean mental and physical health which will make us feel good.\\n- Sanitation and neatness play an important role in our day-to-day routine.\\n- Increased level of individual productivity.\\n- Cultivate positive emotions. Good amount of teamwork was seen.\\n\\n---\\n\\n**Department of Computer Science and Engineering, SIT, Mangaluru**  \\n**Page 4 | 6**\\n---PAGE 30 END---\\n **AICTE Activity Point Programme – Report**\\n\\n---\\n\\n**6. Annexure**\\n\\nLink: [https://youtu.be/9jivykJpFlk](https://youtu.be/9jivykJpFlk)\\n\\n![Image of people standing and working outdoors](https://youtu.be/9jivykJpFlk)\\n\\n![Image of people working outdoors](https://youtu.be/9jivykJpFlk)\\n\\n![Image of people working outdoors](https://youtu.be/9jivykJpFlk)\\n\\n![Image of people working outdoors](https://youtu.be/9jivykJpFlk)\\n\\n---\\n\\n**Department of Computer Science and Engineering, SIT, Mangaluru**\\n\\n**P a g e 5 | 6**\\n---PAGE 31 END---\\n # SRINIVAS INSTITUTE OF TECHNOLOGY\\n(Accredited by NAAC)  \\nValachil, Mangaluru-574143  \\n\\n## Department of Computer Science and Engineering\\n\\n### A report on\\n\\n## AICTE ACTIVITY POINT PROGRAMME\\n\\n| Name   | USN        |\\n|--------|------------|\\n| Jaideep | 4SN19CS035 |\\n\\n### Activity Head\\n\\nHelping Local Schools to Achieve Good Result and Enhance Their Enrolment in Higher/ Technical/ Vocational Education\\n\\n### Activity Name\\n\\nProviding Quality Education to Primary School Students\\n\\n### Duration\\n\\n| Date(s)     | No. of Hours |\\n|-------------|--------------|\\n| 23-02-2023  |              |\\n| to          | 24           |\\n| 26-02-2023  |              |\\n| **Total hours** | **24** |\\n\\n| Mentor’s Name       | Mentor’s Signature with date |\\n|---------------------|------------------------------|\\n| Prof. Harishma K V  |                              |\\n\\n2022-2023\\n---PAGE 32 END---\\n # AICTE Activity Point Programme – Report\\n\\n## 1. Introduction',\n",
       " \"School life is the golden period of human’s life. It is the period of learning manners and making habits. It is the period of enjoying and merry making with friends and classmate. School life is very important part of one's life, because it provides opportunity for study and discipline. Besides these, the school life is a preparatory stage for entering public life. School is the best period of human life. People are learning from his childhood in the school, and also a school built the characters of the human. It is the formative period for everyone. Every student should try to make their better life and best use of school life because it never comes again after the school session. On 23-02-2023 to 26-02-2023 we went to Government Primary School Valachil to provide quality education to the primary students.\\n\\n## 2. Objective of the activity\\n\\n- Visiting the primary school to provide quality education and teaching them basics techniques to solve mathematical problems faster.\\n- Raising awareness about how important is to save water and hence improve the health of Mother Earth.\\n- Spreading awareness on the effects of mobile phone and how it be useful.\\n- Teaching students how to improve their communication skills.\\n- Acknowledging the students that behavioral improves is beneficial.\\n- Reminding the vast beautiful aspects of the upcoming technology.\\n- Practicing yoga and hence incrementing their concentration ability.\\n- Playing indoor and outdoor games to create reminder that even co-curricular activity has to go hand in hand with the current line education.\\n- Understanding likes and dislikes of the students and helping them to choose what they are good at.\\n- Developing inter and intrapersonal skills among students.\\n\\n---\\n\\n**Department of Computer Science and Engineering, SIT, Mangaluru**\\n\\n**Page 2 | 5**\\n---PAGE 33 END---\\n # AICTE Activity Point Programme – Report\\n\\n## 3. Methodology\\n\\n- On 15-10-2022 to 25-02-2023 we visited Valachil primary school.\\n- We reached at 9.00am.\\n- We teach some of importance of good educations for the students.\\n- We also conduct some of co-curricular activity for the students.\\n- At 1.00pm we had lunch with a student.\\n- At 2.00pm the class was again continued.\\n- Till 4.30pm we will present by doing various activity.\\n\\n## 4. Details\\n\\nAs a part of AICTE activity me and my friends made a discussion of providing a quality education for the primary school students. We visited primary school, A at 9.am. Started our activity with a student. We conducted our activity for 10 days with a student. Different day we did different type of activities. At 1st day we did simple mathematics to improve students logical reasoning skills. 2nd day we taught student to not to waste the water and benefits of saving natural resources and mother Earth. 3rd day we taught the student how to improve their communication skills.\\n\\n![Group of students and teachers](attachment1.jpg)\\n![Teacher and student](attachment2.jpg)\\n\\n---\\n\\n**Department of Computer Science and Engineering, SIT, Mangaluru**\\n\\n**Page 3 | 5**\\n---PAGE 34 END---\\n **AICTE Activity Point Programme – Report**\\n\\n![Image of students and teachers in a classroom setting]\\n\\n4th day we acknowledged the students that behavioral improvement is beneficial. 5th day we explained the effects of mobiles. 6th day yoga and cultural activities. 7th day we gave awareness about the plastic waste which is harmful for the environment. 8th day we taught some indoor and outdoor games to create reminder that even co-curricular activity is necessary. 9th day we explained sharing is caring by simple skit form.\\n\\n![Image of students participating in activities]\\n\\nAt last day we assembled with a prayer and we started our day. That day we gave some importance suggestion to the students how to build a confidence among themselves and also how to improve the thinking capacity. All 10 days we reached at 9.00am and we had Our lunch at 1.00pm with students. Till 4.30pm we will present by doing various activity. This activity gave me wonderful experience with the students. I believe that I made my best for providing quality education for the primary students.\\n\\n**Department of Computer Science and Engineering, SIT, Mangaluru**\\n\\n**Page 4 of 5**\\n---PAGE 35 END---\\n # AICTE Activity Point Programme – Report\\n\\n## 5. Outcomes\\n\\n- Finally, we are very happy to give our best to provide a good quality education for the primary students.\\n- Students get information causes and effect of mobile phones.\\n- Students got idea how to save the water and environment.\\n- Students to give different techniques to improve their knowledge.\\n- Successfully acknowledged students to understand the quality of education to be provided and learn excess things in a much preferable way.\\n\\n## 6. Annexure\\n\\nLink: [https://www.youtube.com/watch?v=JpI13mIgxml&feature=youtu.be](https://www.youtube.com/watch?v=JpI13mIgxml&feature=youtu.be)\\n\\n![Group of students and teachers](attachment:image.jpg)\\n\\n---\\n\\n**Department of Computer Science and Engineering, SIT, Mangaluru**\\n\\n**Page 5 | 5**\\n---PAGE 36 END---\"]"
      ]
     },
     "execution_count": 22,
     "metadata": {},
     "output_type": "execute_result"
    }
   ],
   "source": [
    "# Doc texts split\n",
    "from langchain_text_splitters import RecursiveCharacterTextSplitter\n",
    "\n",
    "chunk_size_tok = 2000\n",
    "text_splitter = RecursiveCharacterTextSplitter.from_tiktoken_encoder(\n",
    "    chunk_size=chunk_size_tok, chunk_overlap=0\n",
    ")\n",
    "texts_split = text_splitter.split_text(extracted_text)\n"
   ]
  },
  {
   "cell_type": "code",
   "execution_count": 23,
   "id": "e107424a",
   "metadata": {},
   "outputs": [],
   "source": [
    "from langchain_openai import AzureOpenAIEmbeddings, AzureChatOpenAI\n",
    "from dotenv import load_dotenv\n",
    "\n",
    "load_dotenv()\n",
    "\n",
    "embd = AzureOpenAIEmbeddings(model=\"gpt-text-embedding-3-large\")\n",
    "\n",
    "model =  AzureChatOpenAI(model=\"gpt-4o\", temperature=0)"
   ]
  },
  {
   "cell_type": "code",
   "execution_count": 26,
   "id": "85f0047c",
   "metadata": {},
   "outputs": [],
   "source": [
    "from typing import Dict, List, Optional, Tuple\n",
    "\n",
    "import numpy as np\n",
    "import pandas as pd\n",
    "import umap\n",
    "from langchain.prompts import ChatPromptTemplate\n",
    "from langchain_core.output_parsers import StrOutputParser\n",
    "from sklearn.mixture import GaussianMixture\n",
    "\n",
    "RANDOM_SEED = 224  # Fixed seed for reproducibility\n",
    "\n",
    "### --- Code from citations referenced above (added comments and docstrings) --- ###\n",
    "\n",
    "\n",
    "def global_cluster_embeddings(\n",
    "    embeddings: np.ndarray,\n",
    "    dim: int,\n",
    "    n_neighbors: Optional[int] = None,\n",
    "    metric: str = \"cosine\",\n",
    ") -> np.ndarray:\n",
    "    \"\"\"\n",
    "    Perform global dimensionality reduction on the embeddings using UMAP.\n",
    "\n",
    "    Parameters:\n",
    "    - embeddings: The input embeddings as a numpy array.\n",
    "    - dim: The target dimensionality for the reduced space.\n",
    "    - n_neighbors: Optional; the number of neighbors to consider for each point.\n",
    "                   If not provided, it defaults to the square root of the number of embeddings.\n",
    "    - metric: The distance metric to use for UMAP.\n",
    "\n",
    "    Returns:\n",
    "    - A numpy array of the embeddings reduced to the specified dimensionality.\n",
    "    \"\"\"\n",
    "    if n_neighbors is None:\n",
    "        n_neighbors = int((len(embeddings) - 1) ** 0.5)\n",
    "    return umap.UMAP(\n",
    "        n_neighbors=n_neighbors, n_components=dim, metric=metric\n",
    "    ).fit_transform(embeddings)\n",
    "\n",
    "\n",
    "def local_cluster_embeddings(\n",
    "    embeddings: np.ndarray, dim: int, num_neighbors: int = 10, metric: str = \"cosine\"\n",
    ") -> np.ndarray:\n",
    "    \"\"\"\n",
    "    Perform local dimensionality reduction on the embeddings using UMAP, typically after global clustering.\n",
    "\n",
    "    Parameters:\n",
    "    - embeddings: The input embeddings as a numpy array.\n",
    "    - dim: The target dimensionality for the reduced space.\n",
    "    - num_neighbors: The number of neighbors to consider for each point.\n",
    "    - metric: The distance metric to use for UMAP.\n",
    "\n",
    "    Returns:\n",
    "    - A numpy array of the embeddings reduced to the specified dimensionality.\n",
    "    \"\"\"\n",
    "    return umap.UMAP(\n",
    "        n_neighbors=num_neighbors, n_components=dim, metric=metric\n",
    "    ).fit_transform(embeddings)\n",
    "\n",
    "\n",
    "def get_optimal_clusters(\n",
    "    embeddings: np.ndarray, max_clusters: int = 50, random_state: int = RANDOM_SEED\n",
    ") -> int:\n",
    "    \"\"\"\n",
    "    Determine the optimal number of clusters using the Bayesian Information Criterion (BIC) with a Gaussian Mixture Model.\n",
    "\n",
    "    Parameters:\n",
    "    - embeddings: The input embeddings as a numpy array.\n",
    "    - max_clusters: The maximum number of clusters to consider.\n",
    "    - random_state: Seed for reproducibility.\n",
    "\n",
    "    Returns:\n",
    "    - An integer representing the optimal number of clusters found.\n",
    "    \"\"\"\n",
    "    max_clusters = min(max_clusters, len(embeddings))\n",
    "    n_clusters = np.arange(1, max_clusters)\n",
    "    bics = []\n",
    "    for n in n_clusters:\n",
    "        gm = GaussianMixture(n_components=n, random_state=random_state)\n",
    "        gm.fit(embeddings)\n",
    "        bics.append(gm.bic(embeddings))\n",
    "    return n_clusters[np.argmin(bics)]\n",
    "\n",
    "\n",
    "def GMM_cluster(embeddings: np.ndarray, threshold: float, random_state: int = 0):\n",
    "    \"\"\"\n",
    "    Cluster embeddings using a Gaussian Mixture Model (GMM) based on a probability threshold.\n",
    "\n",
    "    Parameters:\n",
    "    - embeddings: The input embeddings as a numpy array.\n",
    "    - threshold: The probability threshold for assigning an embedding to a cluster.\n",
    "    - random_state: Seed for reproducibility.\n",
    "\n",
    "    Returns:\n",
    "    - A tuple containing the cluster labels and the number of clusters determined.\n",
    "    \"\"\"\n",
    "    n_clusters = get_optimal_clusters(embeddings)\n",
    "    gm = GaussianMixture(n_components=n_clusters, random_state=random_state)\n",
    "    gm.fit(embeddings)\n",
    "    probs = gm.predict_proba(embeddings)\n",
    "    labels = [np.where(prob > threshold)[0] for prob in probs]\n",
    "    return labels, n_clusters\n",
    "\n",
    "\n",
    "def perform_clustering(\n",
    "    embeddings: np.ndarray,\n",
    "    dim: int,\n",
    "    threshold: float,\n",
    ") -> List[np.ndarray]:\n",
    "    \"\"\"\n",
    "    Perform clustering on the embeddings by first reducing their dimensionality globally, then clustering\n",
    "    using a Gaussian Mixture Model, and finally performing local clustering within each global cluster.\n",
    "\n",
    "    Parameters:\n",
    "    - embeddings: The input embeddings as a numpy array.\n",
    "    - dim: The target dimensionality for UMAP reduction.\n",
    "    - threshold: The probability threshold for assigning an embedding to a cluster in GMM.\n",
    "\n",
    "    Returns:\n",
    "    - A list of numpy arrays, where each array contains the cluster IDs for each embedding.\n",
    "    \"\"\"\n",
    "    if len(embeddings) <= dim + 1:\n",
    "        # Avoid clustering when there's insufficient data\n",
    "        return [np.array([0]) for _ in range(len(embeddings))]\n",
    "\n",
    "    # Global dimensionality reduction\n",
    "    reduced_embeddings_global = global_cluster_embeddings(embeddings, dim)\n",
    "    # Global clustering\n",
    "    global_clusters, n_global_clusters = GMM_cluster(\n",
    "        reduced_embeddings_global, threshold\n",
    "    )\n",
    "\n",
    "    all_local_clusters = [np.array([]) for _ in range(len(embeddings))]\n",
    "    total_clusters = 0\n",
    "\n",
    "    # Iterate through each global cluster to perform local clustering\n",
    "    for i in range(n_global_clusters):\n",
    "        # Extract embeddings belonging to the current global cluster\n",
    "        global_cluster_embeddings_ = embeddings[\n",
    "            np.array([i in gc for gc in global_clusters])\n",
    "        ]\n",
    "\n",
    "        if len(global_cluster_embeddings_) == 0:\n",
    "            continue\n",
    "        if len(global_cluster_embeddings_) <= dim + 1:\n",
    "            # Handle small clusters with direct assignment\n",
    "            local_clusters = [np.array([0]) for _ in global_cluster_embeddings_]\n",
    "            n_local_clusters = 1\n",
    "        else:\n",
    "            # Local dimensionality reduction and clustering\n",
    "            reduced_embeddings_local = local_cluster_embeddings(\n",
    "                global_cluster_embeddings_, dim\n",
    "            )\n",
    "            local_clusters, n_local_clusters = GMM_cluster(\n",
    "                reduced_embeddings_local, threshold\n",
    "            )\n",
    "\n",
    "        # Assign local cluster IDs, adjusting for total clusters already processed\n",
    "        for j in range(n_local_clusters):\n",
    "            local_cluster_embeddings_ = global_cluster_embeddings_[\n",
    "                np.array([j in lc for lc in local_clusters])\n",
    "            ]\n",
    "            indices = np.where(\n",
    "                (embeddings == local_cluster_embeddings_[:, None]).all(-1)\n",
    "            )[1]\n",
    "            for idx in indices:\n",
    "                all_local_clusters[idx] = np.append(\n",
    "                    all_local_clusters[idx], j + total_clusters\n",
    "                )\n",
    "\n",
    "        total_clusters += n_local_clusters\n",
    "\n",
    "    return all_local_clusters\n"
   ]
  },
  {
   "cell_type": "code",
   "execution_count": 27,
   "id": "b9020a7f",
   "metadata": {},
   "outputs": [],
   "source": [
    "\n",
    "### --- Our code below --- ###\n",
    "\n",
    "\n",
    "def embed(texts):\n",
    "    \"\"\"\n",
    "    Generate embeddings for a list of text documents.\n",
    "\n",
    "    This function assumes the existence of an `embd` object with a method `embed_documents`\n",
    "    that takes a list of texts and returns their embeddings.\n",
    "\n",
    "    Parameters:\n",
    "    - texts: List[str], a list of text documents to be embedded.\n",
    "\n",
    "    Returns:\n",
    "    - numpy.ndarray: An array of embeddings for the given text documents.\n",
    "    \"\"\"\n",
    "    text_embeddings = embd.embed_documents(texts)\n",
    "    text_embeddings_np = np.array(text_embeddings)\n",
    "    return text_embeddings_np\n",
    "\n",
    "\n",
    "def embed_cluster_texts(texts):\n",
    "    \"\"\"\n",
    "    Embeds a list of texts and clusters them, returning a DataFrame with texts, their embeddings, and cluster labels.\n",
    "\n",
    "    This function combines embedding generation and clustering into a single step. It assumes the existence\n",
    "    of a previously defined `perform_clustering` function that performs clustering on the embeddings.\n",
    "\n",
    "    Parameters:\n",
    "    - texts: List[str], a list of text documents to be processed.\n",
    "\n",
    "    Returns:\n",
    "    - pandas.DataFrame: A DataFrame containing the original texts, their embeddings, and the assigned cluster labels.\n",
    "    \"\"\"\n",
    "    text_embeddings_np = embed(texts)  # Generate embeddings\n",
    "    cluster_labels = perform_clustering(\n",
    "        text_embeddings_np, 10, 0.1\n",
    "    )  # Perform clustering on the embeddings\n",
    "    df = pd.DataFrame()  # Initialize a DataFrame to store the results\n",
    "    df[\"text\"] = texts  # Store original texts\n",
    "    df[\"embd\"] = list(text_embeddings_np)  # Store embeddings as a list in the DataFrame\n",
    "    df[\"cluster\"] = cluster_labels  # Store cluster labels\n",
    "    return df\n",
    "\n",
    "\n",
    "def fmt_txt(df: pd.DataFrame) -> str:\n",
    "    \"\"\"\n",
    "    Formats the text documents in a DataFrame into a single string.\n",
    "\n",
    "    Parameters:\n",
    "    - df: DataFrame containing the 'text' column with text documents to format.\n",
    "\n",
    "    Returns:\n",
    "    - A single string where all text documents are joined by a specific delimiter.\n",
    "    \"\"\"\n",
    "    unique_txt = df[\"text\"].tolist()\n",
    "    return \"--- --- \\n --- --- \".join(unique_txt)\n",
    "\n",
    "\n",
    "def embed_cluster_summarize_texts(\n",
    "    texts: List[str], level: int\n",
    ") -> Tuple[pd.DataFrame, pd.DataFrame]:\n",
    "    \"\"\"\n",
    "    Embeds, clusters, and summarizes a list of texts. This function first generates embeddings for the texts,\n",
    "    clusters them based on similarity, expands the cluster assignments for easier processing, and then summarizes\n",
    "    the content within each cluster.\n",
    "\n",
    "    Parameters:\n",
    "    - texts: A list of text documents to be processed.\n",
    "    - level: An integer parameter that could define the depth or detail of processing.\n",
    "\n",
    "    Returns:\n",
    "    - Tuple containing two DataFrames:\n",
    "      1. The first DataFrame (`df_clusters`) includes the original texts, their embeddings, and cluster assignments.\n",
    "      2. The second DataFrame (`df_summary`) contains summaries for each cluster, the specified level of detail,\n",
    "         and the cluster identifiers.\n",
    "    \"\"\"\n",
    "\n",
    "    # Embed and cluster the texts, resulting in a DataFrame with 'text', 'embd', and 'cluster' columns\n",
    "    df_clusters = embed_cluster_texts(texts)\n",
    "\n",
    "    # Prepare to expand the DataFrame for easier manipulation of clusters\n",
    "    expanded_list = []\n",
    "\n",
    "    # Expand DataFrame entries to document-cluster pairings for straightforward processing\n",
    "    for index, row in df_clusters.iterrows():\n",
    "        for cluster in row[\"cluster\"]:\n",
    "            expanded_list.append(\n",
    "                {\"text\": row[\"text\"], \"embd\": row[\"embd\"], \"cluster\": cluster}\n",
    "            )\n",
    "\n",
    "    # Create a new DataFrame from the expanded list\n",
    "    expanded_df = pd.DataFrame(expanded_list)\n",
    "\n",
    "    # Retrieve unique cluster identifiers for processing\n",
    "    all_clusters = expanded_df[\"cluster\"].unique()\n",
    "\n",
    "    print(f\"--Generated {len(all_clusters)} clusters--\")\n",
    "\n",
    "    # Summarization\n",
    "    template = \"\"\"Here is a sub-set of LangChain Expression Language doc. \n",
    "    \n",
    "    LangChain Expression Language provides a way to compose chain in LangChain.\n",
    "    \n",
    "    Give a detailed summary of the documentation provided.\n",
    "    \n",
    "    Documentation:\n",
    "    {context}\n",
    "    \"\"\"\n",
    "    prompt = ChatPromptTemplate.from_template(template)\n",
    "    chain = prompt | model | StrOutputParser()\n",
    "\n",
    "    # Format text within each cluster for summarization\n",
    "    summaries = []\n",
    "    for i in all_clusters:\n",
    "        df_cluster = expanded_df[expanded_df[\"cluster\"] == i]\n",
    "        formatted_txt = fmt_txt(df_cluster)\n",
    "        summaries.append(chain.invoke({\"context\": formatted_txt}))\n",
    "\n",
    "    # Create a DataFrame to store summaries with their corresponding cluster and level\n",
    "    df_summary = pd.DataFrame(\n",
    "        {\n",
    "            \"summaries\": summaries,\n",
    "            \"level\": [level] * len(summaries),\n",
    "            \"cluster\": list(all_clusters),\n",
    "        }\n",
    "    )\n",
    "\n",
    "    return df_clusters, df_summary\n",
    "\n",
    "\n",
    "def recursive_embed_cluster_summarize(\n",
    "    texts: List[str], level: int = 1, n_levels: int = 3\n",
    ") -> Dict[int, Tuple[pd.DataFrame, pd.DataFrame]]:\n",
    "    \"\"\"\n",
    "    Recursively embeds, clusters, and summarizes texts up to a specified level or until\n",
    "    the number of unique clusters becomes 1, storing the results at each level.\n",
    "\n",
    "    Parameters:\n",
    "    - texts: List[str], texts to be processed.\n",
    "    - level: int, current recursion level (starts at 1).\n",
    "    - n_levels: int, maximum depth of recursion.\n",
    "\n",
    "    Returns:\n",
    "    - Dict[int, Tuple[pd.DataFrame, pd.DataFrame]], a dictionary where keys are the recursion\n",
    "      levels and values are tuples containing the clusters DataFrame and summaries DataFrame at that level.\n",
    "    \"\"\"\n",
    "    results = {}  # Dictionary to store results at each level\n",
    "\n",
    "    # Perform embedding, clustering, and summarization for the current level\n",
    "    df_clusters, df_summary = embed_cluster_summarize_texts(texts, level)\n",
    "\n",
    "    # Store the results of the current level\n",
    "    results[level] = (df_clusters, df_summary)\n",
    "\n",
    "    # Determine if further recursion is possible and meaningful\n",
    "    unique_clusters = df_summary[\"cluster\"].nunique()\n",
    "    if level < n_levels and unique_clusters > 1:\n",
    "        # Use summaries as the input texts for the next level of recursion\n",
    "        new_texts = df_summary[\"summaries\"].tolist()\n",
    "        next_level_results = recursive_embed_cluster_summarize(\n",
    "            new_texts, level + 1, n_levels\n",
    "        )\n",
    "\n",
    "        # Merge the results from the next level into the current results dictionary\n",
    "        results.update(next_level_results)\n",
    "\n",
    "    return results"
   ]
  },
  {
   "cell_type": "code",
   "execution_count": 31,
   "id": "76c1190d",
   "metadata": {},
   "outputs": [
    {
     "name": "stdout",
     "output_type": "stream",
     "text": [
      "--Generated 3 clusters--\n",
      "--Generated 1 clusters--\n"
     ]
    }
   ],
   "source": [
    "# Build tree\n",
    "leaf_texts = texts_split\n",
    "results = recursive_embed_cluster_summarize(leaf_texts, level=1, n_levels=3)"
   ]
  },
  {
   "cell_type": "code",
   "execution_count": 38,
   "id": "d7e87f88",
   "metadata": {},
   "outputs": [
    {
     "name": "stderr",
     "output_type": "stream",
     "text": [
      "Received notification from DBMS server: {severity: WARNING} {code: Neo.ClientNotification.Statement.FeatureDeprecationWarning} {category: DEPRECATION} {title: This feature is deprecated and will be removed in future versions.} {description: CALL subquery without a variable scope clause is now deprecated. Use CALL (row) { ... }} {position: line: 1, column: 21, offset: 20} for query: \"UNWIND $data AS row CALL { WITH row MERGE (c:`Chunk` {id: row.id}) WITH c, row CALL db.create.setNodeVectorProperty(c, 'embedding', row.embedding) SET c.`text` = row.text SET c += row.metadata } IN TRANSACTIONS OF 1000 ROWS \"\n"
     ]
    }
   ],
   "source": [
    "from langchain_chroma import Chroma\n",
    "\n",
    "# Initialize all_texts with leaf_texts\n",
    "all_texts = leaf_texts.copy()\n",
    "\n",
    "# Iterate through the results to extract summaries from each level and add them to all_texts\n",
    "for level in sorted(results.keys()):\n",
    "    # Extract summaries from the current level's DataFrame\n",
    "    summaries = results[level][1][\"summaries\"].tolist()\n",
    "    # Extend all_texts with the summaries from the current level\n",
    "    all_texts.extend(summaries)\n",
    "\n",
    "# Now, use all_texts to build the vectorstore with Chroma\n",
    "# vectorstore = Chroma.from_texts(texts=all_texts, embedding=embd)\n",
    "# retriever = vectorstore.as_retriever()\n",
    "\n",
    "# Now, use all_texts to build the vectorstore with Neo4jGraph\n",
    "from langchain_community.vectorstores import Neo4jVector\n",
    "from dotenv import load_dotenv\n",
    "\n",
    "load_dotenv()\n",
    "vectorstore=Neo4jVector.from_texts(embedding=embd,texts=all_texts)\n",
    "retriever = vectorstore.as_retriever()"
   ]
  },
  {
   "cell_type": "code",
   "execution_count": 35,
   "id": "615c805a",
   "metadata": {},
   "outputs": [
    {
     "data": {
      "text/plain": [
       "'Jaideep is a student at Srinivas Institute of Technology who has completed various activities under the AICTE Activity Point Programme. He has engaged in initiatives such as promoting tourism, creating awareness about wildlife conservation, diabetes, COVID-19, AR-powered navigation, Swachh Bharat Abhiyaan, and providing quality education to primary school students. His efforts have been documented and certified by the Department of Computer Science and Engineering at his institute.'"
      ]
     },
     "execution_count": 35,
     "metadata": {},
     "output_type": "execute_result"
    }
   ],
   "source": [
    "from langchain_core.runnables import RunnablePassthrough\n",
    "from langchain_core.prompts import ChatPromptTemplate\n",
    "\n",
    "# Prompt\n",
    "messages = [\n",
    "    (\"system\", \"You are expert in analyzing the provided document and answer the user question. For the general question like hi great the user. Do not include 'Based on the provided documents' kind of words related to document when the document data is available\"),\n",
    "    (\"human\", \"\"\"You are an assistant for question-answering tasks. Use the following pieces of retrieved context to answer the question. If you don't know the answer, just say that you don't know. Use three sentences maximum and keep the answer concise.\n",
    "      Question: {question} Context: {context} Answer:\"\"\"),\n",
    "]\n",
    "\n",
    "\n",
    "prompt = ChatPromptTemplate.from_messages(messages)\n",
    "\n",
    "\n",
    "# Post-processing\n",
    "def format_docs(docs):\n",
    "    return \"\\n\\n\".join(doc.page_content for doc in docs)\n",
    "\n",
    "\n",
    "# Chain\n",
    "rag_chain = (\n",
    "    {\"context\": retriever | format_docs, \"question\": RunnablePassthrough()}\n",
    "    | prompt\n",
    "    | model\n",
    "    | StrOutputParser()\n",
    ")\n",
    "\n",
    "# Question\n",
    "rag_chain.invoke(\"Who is Jaideep\")"
   ]
  }
 ],
 "metadata": {
  "kernelspec": {
   "display_name": ".venv",
   "language": "python",
   "name": "python3"
  },
  "language_info": {
   "codemirror_mode": {
    "name": "ipython",
    "version": 3
   },
   "file_extension": ".py",
   "mimetype": "text/x-python",
   "name": "python",
   "nbconvert_exporter": "python",
   "pygments_lexer": "ipython3",
   "version": "3.12.1"
  }
 },
 "nbformat": 4,
 "nbformat_minor": 5
}
